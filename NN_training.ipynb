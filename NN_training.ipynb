{
 "cells": [
  {
   "cell_type": "code",
   "execution_count": 2,
   "metadata": {},
   "outputs": [],
   "source": [
    "import wandb\n",
    "import pandas as pd\n",
    "from torch.utils.data import Dataset\n",
    "from sklearn.model_selection import train_test_split\n",
    "import torch"
   ]
  },
  {
   "cell_type": "markdown",
   "metadata": {},
   "source": [
    "### Run other .ipybn files"
   ]
  },
  {
   "cell_type": "code",
   "execution_count": null,
   "metadata": {},
   "outputs": [],
   "source": [
    "#%run NN_model.ipynb #later import as .py\n",
    "#%run NN_dataset.ipynb #later import as .py"
   ]
  },
  {
   "cell_type": "code",
   "execution_count": 26,
   "metadata": {},
   "outputs": [],
   "source": [
    "class CellDataset(Dataset):\n",
    "    def __init__(self, data: pd.DataFrame, normalize:bool):\n",
    "        # save predictros as DataFrame\n",
    "        self.cell_descriptors = data.drop(columns=['target'])\n",
    "\n",
    "        # Normalize target value to [-1, 1]\n",
    "        res = data['target']\n",
    "        if normalize:\n",
    "            res = res.apply(lambda x: -1 if x == 0 else 1)\n",
    "\n",
    "        # save target as DataFrame\n",
    "        self.cell_response = res.astype('float64').to_frame()\n",
    "\n",
    "    def __len__(self):\n",
    "        return len(self.cell_descriptors)\n",
    "\n",
    "    def __getitem__(self, idx):\n",
    "        desc = self.cell_descriptors.iloc[idx]\n",
    "        res = self.cell_response.iloc[idx]\n",
    "        return desc.values, res.values\n",
    "    \n",
    "    def get_input_size(self):\n",
    "        return self.cell_descriptors.shape[1]"
   ]
  },
  {
   "cell_type": "markdown",
   "metadata": {},
   "source": [
    "### Load Dataset a Initialize NN model"
   ]
  },
  {
   "cell_type": "code",
   "execution_count": 59,
   "metadata": {},
   "outputs": [
    {
     "name": "stdout",
     "output_type": "stream",
     "text": [
      "Using cpu device for training\n",
      "751\n",
      "751\n",
      "6\n"
     ]
    }
   ],
   "source": [
    "current_data = data\n",
    "\n",
    "# Split dataset -> 20% testing, 80% training\n",
    "# Stratified split = each dataset has equal amounts of each class (saved in column 'target')\n",
    "train, test = train_test_split(current_data, test_size = 0.2, stratify = current_data['target']) \n",
    "\n",
    "# Initlize dataset for NN\n",
    "config.activation_fn = \"sigmoid\"\n",
    "train_data = CellDataset(train, normalize_dataset())\n",
    "test_data = CellDataset(test, normalize_dataset())\n",
    "\n",
    "# Create NN and training class\n",
    "mlp = MultiLayerPerceptron(train_data.get_input_size())\n",
    "trainer = Trainer(config, mlp)\n",
    "\n",
    "# Load dataset\n",
    "trainer.load_dataset(train_data, test_data)"
   ]
  },
  {
   "cell_type": "markdown",
   "metadata": {},
   "source": [
    "### Wandb Project"
   ]
  },
  {
   "cell_type": "code",
   "execution_count": 4,
   "metadata": {},
   "outputs": [
    {
     "name": "stdout",
     "output_type": "stream",
     "text": [
      "env: \"WANDB_NOTEBOOK_NAME\"=notebook_name\n"
     ]
    },
    {
     "data": {
      "text/html": [
       "Tracking run with wandb version 0.16.4"
      ],
      "text/plain": [
       "<IPython.core.display.HTML object>"
      ]
     },
     "metadata": {},
     "output_type": "display_data"
    },
    {
     "data": {
      "text/html": [
       "Run data is saved locally in <code>c:\\Users\\matul\\Desktop\\NSIETE-z1\\wandb\\run-20240318_142709-257datrk</code>"
      ],
      "text/plain": [
       "<IPython.core.display.HTML object>"
      ]
     },
     "metadata": {},
     "output_type": "display_data"
    },
    {
     "data": {
      "text/html": [
       "Syncing run <strong><a href='https://wandb.ai/mteam0/NN-z1/runs/257datrk' target=\"_blank\">clean-cloud-2</a></strong> to <a href='https://wandb.ai/mteam0/NN-z1' target=\"_blank\">Weights & Biases</a> (<a href='https://wandb.me/run' target=\"_blank\">docs</a>)<br/>"
      ],
      "text/plain": [
       "<IPython.core.display.HTML object>"
      ]
     },
     "metadata": {},
     "output_type": "display_data"
    },
    {
     "data": {
      "text/html": [
       " View project at <a href='https://wandb.ai/mteam0/NN-z1' target=\"_blank\">https://wandb.ai/mteam0/NN-z1</a>"
      ],
      "text/plain": [
       "<IPython.core.display.HTML object>"
      ]
     },
     "metadata": {},
     "output_type": "display_data"
    },
    {
     "data": {
      "text/html": [
       " View run at <a href='https://wandb.ai/mteam0/NN-z1/runs/257datrk' target=\"_blank\">https://wandb.ai/mteam0/NN-z1/runs/257datrk</a>"
      ],
      "text/plain": [
       "<IPython.core.display.HTML object>"
      ]
     },
     "metadata": {},
     "output_type": "display_data"
    },
    {
     "data": {
      "text/html": [
       "<button onClick=\"this.nextSibling.style.display='block';this.style.display='none';\">Display W&B run</button><iframe src='https://wandb.ai/mteam0/NN-z1/runs/257datrk?jupyter=true' style='border:none;width:100%;height:420px;display:none;'></iframe>"
      ],
      "text/plain": [
       "<wandb.sdk.wandb_run.Run at 0x277286473b0>"
      ]
     },
     "execution_count": 4,
     "metadata": {},
     "output_type": "execute_result"
    }
   ],
   "source": [
    "wandb.login()\n",
    "\n",
    "notebook_name = \"NN-z1\"\n",
    "\n",
    "%env \"WANDB_NOTEBOOK_NAME\" notebook_name\n",
    "\n",
    "wandb.init(\n",
    "    project= notebook_name\n",
    ")"
   ]
  },
  {
   "cell_type": "code",
   "execution_count": null,
   "metadata": {},
   "outputs": [],
   "source": [
    "#%%wandb\n",
    "\n",
    "no_epochs = 1000\n",
    "\n",
    "for epoch in range(no_epochs):\n",
    "    # Train model\n",
    "    trainer.train()\n",
    "    # Get metrics\n",
    "    metrics = trainer.evaluate()\n",
    "\n",
    "    #  wandb.log({\"accuracy\": accuracy, \"loss\": loss})\n",
    "\n",
    "    "
   ]
  }
 ],
 "metadata": {
  "kernelspec": {
   "display_name": "NN",
   "language": "python",
   "name": "python3"
  },
  "language_info": {
   "codemirror_mode": {
    "name": "ipython",
    "version": 3
   },
   "file_extension": ".py",
   "mimetype": "text/x-python",
   "name": "python",
   "nbconvert_exporter": "python",
   "pygments_lexer": "ipython3",
   "version": "3.12.2"
  }
 },
 "nbformat": 4,
 "nbformat_minor": 2
}
