{
 "cells": [
  {
   "cell_type": "markdown",
   "metadata": {},
   "source": [
    "# __Predicting cell biological response__"
   ]
  },
  {
   "cell_type": "code",
   "execution_count": 75,
   "metadata": {},
   "outputs": [],
   "source": [
    "import wandb\n",
    "import pandas as pd\n",
    "from torch.utils.data import Dataset\n",
    "from sklearn.model_selection import train_test_split\n",
    "import logging"
   ]
  },
  {
   "cell_type": "markdown",
   "metadata": {},
   "source": [
    "#### Run other .ipybn files"
   ]
  },
  {
   "cell_type": "code",
   "execution_count": 76,
   "metadata": {},
   "outputs": [
    {
     "name": "stdout",
     "output_type": "stream",
     "text": [
      "         D1        D2    D3   D4        D5        D6        D7        D8  \\\n",
      "0  0.000000  0.497009  0.10  0.0  0.132956  0.678031  0.273166  0.585445   \n",
      "1  0.366667  0.606291  0.05  0.0  0.111209  0.803455  0.106105  0.411754   \n",
      "2  0.033300  0.480124  0.00  0.0  0.209791  0.610350  0.356453  0.517720   \n",
      "3  0.000000  0.538825  0.00  0.5  0.196344  0.724230  0.235606  0.288764   \n",
      "4  0.100000  0.517794  0.00  0.0  0.494734  0.781422  0.154361  0.303809   \n",
      "\n",
      "         D9       D10  ...  D1768  D1769  D1770  D1771  D1772  D1773  D1774  \\\n",
      "0  0.743663  0.243144  ...    0.0    0.0    0.0    0.0    0.0    0.0    0.0   \n",
      "1  0.836582  0.106480  ...    1.0    1.0    1.0    0.0    1.0    0.0    0.0   \n",
      "2  0.679051  0.352308  ...    0.0    0.0    0.0    0.0    0.0    0.0    0.0   \n",
      "3  0.805110  0.208989  ...    0.0    0.0    0.0    0.0    0.0    0.0    0.0   \n",
      "4  0.812646  0.125177  ...    0.0    0.0    0.0    0.0    0.0    0.0    0.0   \n",
      "\n",
      "   D1775  D1776  target  \n",
      "0    0.0    0.0       1  \n",
      "1    1.0    0.0       1  \n",
      "2    0.0    0.0       1  \n",
      "3    0.0    0.0       1  \n",
      "4    0.0    0.0       0  \n",
      "\n",
      "[5 rows x 1777 columns]\n",
      "<class 'pandas.core.frame.DataFrame'>\n",
      "RangeIndex: 3751 entries, 0 to 3750\n",
      "Columns: 1777 entries, D1 to target\n",
      "dtypes: float64(1776), int64(1)\n",
      "memory usage: 50.9 MB\n",
      "None\n",
      "                D1           D2           D3           D4           D5  \\\n",
      "count  3751.000000  3751.000000  3751.000000  3751.000000  3751.000000   \n",
      "mean      0.076948     0.592436     0.068142     0.038990     0.212112   \n",
      "std       0.079989     0.105860     0.078414     0.115885     0.102592   \n",
      "min       0.000000     0.282128     0.000000     0.000000     0.002630   \n",
      "25%       0.033300     0.517811     0.000000     0.000000     0.138118   \n",
      "50%       0.066700     0.585989     0.050000     0.000000     0.190926   \n",
      "75%       0.100000     0.668395     0.100000     0.000000     0.261726   \n",
      "max       1.000000     0.964381     0.950000     1.000000     1.000000   \n",
      "\n",
      "                D6           D7           D8           D9          D10  ...  \\\n",
      "count  3751.000000  3751.000000  3751.000000  3751.000000  3751.000000  ...   \n",
      "mean      0.686653     0.274713     0.455133     0.749517     0.270411  ...   \n",
      "std       0.078702     0.090017     0.162731     0.071702     0.096128  ...   \n",
      "min       0.137873     0.006130     0.000000     0.275590     0.003040  ...   \n",
      "25%       0.625627     0.207374     0.378062     0.707339     0.194357  ...   \n",
      "50%       0.674037     0.277845     0.499942     0.738961     0.284316  ...   \n",
      "75%       0.740663     0.335816     0.569962     0.788177     0.344626  ...   \n",
      "max       0.994735     0.790831     0.989870     1.000000     1.000000  ...   \n",
      "\n",
      "             D1768        D1769        D1770        D1771        D1772  \\\n",
      "count  3751.000000  3751.000000  3751.000000  3751.000000  3751.000000   \n",
      "mean      0.014663     0.013863     0.021861     0.015196     0.016796   \n",
      "std       0.120215     0.116938     0.146249     0.122348     0.128522   \n",
      "min       0.000000     0.000000     0.000000     0.000000     0.000000   \n",
      "25%       0.000000     0.000000     0.000000     0.000000     0.000000   \n",
      "50%       0.000000     0.000000     0.000000     0.000000     0.000000   \n",
      "75%       0.000000     0.000000     0.000000     0.000000     0.000000   \n",
      "max       1.000000     1.000000     1.000000     1.000000     1.000000   \n",
      "\n",
      "             D1773        D1774        D1775        D1776       target  \n",
      "count  3751.000000  3751.000000  3751.000000  3751.000000  3751.000000  \n",
      "mean      0.012263     0.011730     0.020261     0.011197     0.542255  \n",
      "std       0.110074     0.107683     0.140911     0.105236     0.498278  \n",
      "min       0.000000     0.000000     0.000000     0.000000     0.000000  \n",
      "25%       0.000000     0.000000     0.000000     0.000000     0.000000  \n",
      "50%       0.000000     0.000000     0.000000     0.000000     1.000000  \n",
      "75%       0.000000     0.000000     0.000000     0.000000     1.000000  \n",
      "max       1.000000     1.000000     1.000000     1.000000     1.000000  \n",
      "\n",
      "[8 rows x 1777 columns]\n",
      "D1        float64\n",
      "D2        float64\n",
      "D3        float64\n",
      "D4        float64\n",
      "D5        float64\n",
      "           ...   \n",
      "D1773     float64\n",
      "D1774     float64\n",
      "D1775     float64\n",
      "D1776     float64\n",
      "target      int64\n",
      "Length: 1777, dtype: object\n"
     ]
    }
   ],
   "source": [
    "%run NN_model.ipynb\n",
    "%run NN_dataset.ipynb #later import as .py"
   ]
  },
  {
   "cell_type": "markdown",
   "metadata": {},
   "source": [
    "#### Dataset representation for NN model"
   ]
  },
  {
   "cell_type": "code",
   "execution_count": 77,
   "metadata": {},
   "outputs": [],
   "source": [
    "class CellDataset(Dataset):\n",
    "    def __init__(self, data: pd.DataFrame, normalize:bool):\n",
    "        # save predictros as DataFrame\n",
    "        self.cell_descriptors = data.drop(columns=['target'])\n",
    "\n",
    "        # Normalize target value to [-1, 1]\n",
    "        res = data['target']\n",
    "        if normalize:\n",
    "            res = res.apply(lambda x: -1 if x == 0 else 1)\n",
    "\n",
    "        # save target as DataFrame\n",
    "        self.cell_response = res.astype('float64').to_frame()\n",
    "\n",
    "    def __len__(self):\n",
    "        return len(self.cell_descriptors)\n",
    "\n",
    "    def __getitem__(self, idx):\n",
    "        desc = self.cell_descriptors.iloc[idx]\n",
    "        res = self.cell_response.iloc[idx]\n",
    "        return desc.values, res.values\n",
    "    \n",
    "    def get_input_size(self):\n",
    "        return self.cell_descriptors.shape[1]"
   ]
  },
  {
   "cell_type": "markdown",
   "metadata": {},
   "source": [
    "#### Load Dataset a Initialize NN model"
   ]
  },
  {
   "cell_type": "code",
   "execution_count": 78,
   "metadata": {},
   "outputs": [
    {
     "name": "stdout",
     "output_type": "stream",
     "text": [
      "Using cpu device for training\n"
     ]
    }
   ],
   "source": [
    "current_data = data\n",
    "\n",
    "# Split dataset -> 20% testing, 80% training\n",
    "# Stratified split = each dataset has equal amounts of each class (saved in column 'target')\n",
    "train, test = train_test_split(current_data, test_size = 0.2, stratify = current_data['target']) \n",
    "\n",
    "# Initlize dataset for NN\n",
    "config.activation_fn = \"sigmoid\"\n",
    "train_data = CellDataset(train, normalize_dataset())\n",
    "test_data = CellDataset(test, normalize_dataset())\n",
    "\n",
    "# Create NN and training class\n",
    "mlp = MultiLayerPerceptron(train_data.get_input_size())\n",
    "trainer = Trainer(config, mlp)\n",
    "\n",
    "# Load dataset\n",
    "trainer.load_dataset(train_data, test_data)"
   ]
  },
  {
   "cell_type": "markdown",
   "metadata": {},
   "source": [
    "## Wandb Project"
   ]
  },
  {
   "cell_type": "code",
   "execution_count": 74,
   "metadata": {},
   "outputs": [
    {
     "name": "stderr",
     "output_type": "stream",
     "text": [
      "\u001b[34m\u001b[1mwandb\u001b[0m: \u001b[33mWARNING\u001b[0m Calling wandb.login() after wandb.init() has no effect.\n"
     ]
    },
    {
     "name": "stdout",
     "output_type": "stream",
     "text": [
      "env: \"WANDB_NOTEBOOK_NAME\"=\"NN-z1\"\n"
     ]
    },
    {
     "data": {
      "text/html": [
       "Finishing last run (ID:u0rhxvdb) before initializing another..."
      ],
      "text/plain": [
       "<IPython.core.display.HTML object>"
      ]
     },
     "metadata": {},
     "output_type": "display_data"
    },
    {
     "data": {
      "application/vnd.jupyter.widget-view+json": {
       "model_id": "6a4aa961d91646f884c60809ede653c8",
       "version_major": 2,
       "version_minor": 0
      },
      "text/plain": [
       "VBox(children=(Label(value='0.001 MB of 0.001 MB uploaded\\r'), FloatProgress(value=1.0, max=1.0)))"
      ]
     },
     "metadata": {},
     "output_type": "display_data"
    },
    {
     "data": {
      "text/html": [
       "<style>\n",
       "    table.wandb td:nth-child(1) { padding: 0 10px; text-align: left ; width: auto;} td:nth-child(2) {text-align: left ; width: 100%}\n",
       "    .wandb-row { display: flex; flex-direction: row; flex-wrap: wrap; justify-content: flex-start; width: 100% }\n",
       "    .wandb-col { display: flex; flex-direction: column; flex-basis: 100%; flex: 1; padding: 10px; }\n",
       "    </style>\n",
       "<div class=\"wandb-row\"><div class=\"wandb-col\"><h3>Run history:</h3><br/><table class=\"wandb\"><tr><td>accuracy</td><td>▁▁▁▁▁▁▁▁▁▁▁▁▁▁▁▁▁▁</td></tr></table><br/></div><div class=\"wandb-col\"><h3>Run summary:</h3><br/><table class=\"wandb\"><tr><td>accuracy</td><td>0.5419</td></tr></table><br/></div></div>"
      ],
      "text/plain": [
       "<IPython.core.display.HTML object>"
      ]
     },
     "metadata": {},
     "output_type": "display_data"
    },
    {
     "data": {
      "text/html": [
       " View run <strong style=\"color:#cdcd00\">test_run</strong> at: <a href='https://wandb.ai/matus13579/NN-z1/runs/u0rhxvdb' target=\"_blank\">https://wandb.ai/matus13579/NN-z1/runs/u0rhxvdb</a><br/>Synced 5 W&B file(s), 0 media file(s), 0 artifact file(s) and 0 other file(s)"
      ],
      "text/plain": [
       "<IPython.core.display.HTML object>"
      ]
     },
     "metadata": {},
     "output_type": "display_data"
    },
    {
     "data": {
      "text/html": [
       "Find logs at: <code>.\\wandb\\run-20240318_222243-u0rhxvdb\\logs</code>"
      ],
      "text/plain": [
       "<IPython.core.display.HTML object>"
      ]
     },
     "metadata": {},
     "output_type": "display_data"
    },
    {
     "data": {
      "text/html": [
       "Successfully finished last run (ID:u0rhxvdb). Initializing new run:<br/>"
      ],
      "text/plain": [
       "<IPython.core.display.HTML object>"
      ]
     },
     "metadata": {},
     "output_type": "display_data"
    },
    {
     "data": {
      "application/vnd.jupyter.widget-view+json": {
       "model_id": "611b457f05974cc69a4bdacdf4dcc608",
       "version_major": 2,
       "version_minor": 0
      },
      "text/plain": [
       "VBox(children=(Label(value='Waiting for wandb.init()...\\r'), FloatProgress(value=0.011111111111111112, max=1.0…"
      ]
     },
     "metadata": {},
     "output_type": "display_data"
    },
    {
     "data": {
      "text/html": [
       "Tracking run with wandb version 0.16.4"
      ],
      "text/plain": [
       "<IPython.core.display.HTML object>"
      ]
     },
     "metadata": {},
     "output_type": "display_data"
    },
    {
     "data": {
      "text/html": [
       "Run data is saved locally in <code>c:\\Users\\matul\\Desktop\\NSIETE-z1\\wandb\\run-20240318_230619-1xpsf9vo</code>"
      ],
      "text/plain": [
       "<IPython.core.display.HTML object>"
      ]
     },
     "metadata": {},
     "output_type": "display_data"
    },
    {
     "data": {
      "text/html": [
       "Syncing run <strong><a href='https://wandb.ai/matus13579/NN-z1/runs/1xpsf9vo' target=\"_blank\">test_run</a></strong> to <a href='https://wandb.ai/matus13579/NN-z1' target=\"_blank\">Weights & Biases</a> (<a href='https://wandb.me/run' target=\"_blank\">docs</a>)<br/>"
      ],
      "text/plain": [
       "<IPython.core.display.HTML object>"
      ]
     },
     "metadata": {},
     "output_type": "display_data"
    },
    {
     "data": {
      "text/html": [
       " View project at <a href='https://wandb.ai/matus13579/NN-z1' target=\"_blank\">https://wandb.ai/matus13579/NN-z1</a>"
      ],
      "text/plain": [
       "<IPython.core.display.HTML object>"
      ]
     },
     "metadata": {},
     "output_type": "display_data"
    },
    {
     "data": {
      "text/html": [
       " View run at <a href='https://wandb.ai/matus13579/NN-z1/runs/1xpsf9vo' target=\"_blank\">https://wandb.ai/matus13579/NN-z1/runs/1xpsf9vo</a>"
      ],
      "text/plain": [
       "<IPython.core.display.HTML object>"
      ]
     },
     "metadata": {},
     "output_type": "display_data"
    }
   ],
   "source": [
    "wandb.login()\n",
    "\n",
    "%env \"WANDB_NOTEBOOK_NAME\" \"NN-z1\"\n",
    "\n",
    "myrun = wandb.init(\n",
    "    entity = \"matus13579\",  #dont change\n",
    "    project = \"NN-z1\",      #dont change\n",
    "    name = \"test_run\"       #run name\n",
    "    # id =                  #define run with ID (used for resuming)\n",
    "    # resume = True         #resume run\n",
    "    )\n",
    "\n",
    "#%%wandb                    #show graphs in Jupyter Notebook\n",
    "\n",
    "logger = logging.getLogger(\"wandb\")\n",
    "logger.setLevel(logging.ERROR)"
   ]
  },
  {
   "cell_type": "markdown",
   "metadata": {},
   "source": [
    "### Training loop"
   ]
  },
  {
   "cell_type": "code",
   "execution_count": 79,
   "metadata": {},
   "outputs": [
    {
     "name": "stdout",
     "output_type": "stream",
     "text": [
      "Epoch 0\n",
      "Epoch 1\n",
      "Epoch 2\n",
      "Epoch 3\n",
      "Epoch 4\n",
      "Epoch 5\n",
      "Epoch 6\n",
      "Epoch 7\n",
      "Epoch 8\n",
      "Epoch 9\n",
      "Epoch 10\n",
      "Epoch 11\n",
      "Epoch 12\n",
      "Epoch 13\n",
      "Epoch 14\n",
      "Epoch 15\n",
      "Epoch 16\n",
      "Epoch 17\n",
      "Epoch 18\n",
      "Epoch 19\n"
     ]
    }
   ],
   "source": [
    "no_epochs = 20\n",
    "\n",
    "for epoch in range(no_epochs):\n",
    "    print (f\"Epoch {epoch}\")\n",
    "\n",
    "    # Train model\n",
    "    trainer.train()\n",
    "\n",
    "    # Get metrics\n",
    "    metrics = trainer.evaluate()\n",
    "\n",
    "    #print (f\"LOSS = {metrics.total_loss}\") \n",
    "    #print (f\"Accuracy = {metrics.accuracy}\")\n",
    "    #print (f\"Precision = {metrics.precision}\")\n",
    "    #print (f\"Recall = {metrics.recall}\")\n",
    "    #print (f\"F1 score = {metrics.f1_score}\")\n",
    "    #print(\" \")\n",
    "\n",
    "    myrun.log({\"loss\": metrics.total_loss})\n",
    "    myrun.log({\"accuracy\": metrics.accuracy})\n",
    "    myrun.log({\"f1_score\": metrics.accuracy})"
   ]
  },
  {
   "cell_type": "code",
   "execution_count": 80,
   "metadata": {},
   "outputs": [
    {
     "data": {
      "application/vnd.jupyter.widget-view+json": {
       "model_id": "37a61c354d944560a1d0f5e07eb942db",
       "version_major": 2,
       "version_minor": 0
      },
      "text/plain": [
       "VBox(children=(Label(value='0.001 MB of 0.001 MB uploaded\\r'), FloatProgress(value=1.0, max=1.0)))"
      ]
     },
     "metadata": {},
     "output_type": "display_data"
    },
    {
     "data": {
      "text/html": [
       "<style>\n",
       "    table.wandb td:nth-child(1) { padding: 0 10px; text-align: left ; width: auto;} td:nth-child(2) {text-align: left ; width: 100%}\n",
       "    .wandb-row { display: flex; flex-direction: row; flex-wrap: wrap; justify-content: flex-start; width: 100% }\n",
       "    .wandb-col { display: flex; flex-direction: column; flex-basis: 100%; flex: 1; padding: 10px; }\n",
       "    </style>\n",
       "<div class=\"wandb-row\"><div class=\"wandb-col\"><h3>Run history:</h3><br/><table class=\"wandb\"><tr><td>accuracy</td><td>▁▁▁▁▁▁▁▁▁▁▁▁▁▁▁▁▁▁▁▁</td></tr><tr><td>f1_score</td><td>▁▁▁▁▁▁▁▁▁▁▁▁▁▁▁▁▁▁▁▁</td></tr><tr><td>loss</td><td>▂▅▆█▅▃█▆█▁▇▅█▄▄▄▄▅▆▅</td></tr></table><br/></div><div class=\"wandb-col\"><h3>Run summary:</h3><br/><table class=\"wandb\"><tr><td>accuracy</td><td>0.5419</td></tr><tr><td>f1_score</td><td>0.5419</td></tr><tr><td>loss</td><td>45.84858</td></tr></table><br/></div></div>"
      ],
      "text/plain": [
       "<IPython.core.display.HTML object>"
      ]
     },
     "metadata": {},
     "output_type": "display_data"
    },
    {
     "data": {
      "text/html": [
       " View run <strong style=\"color:#cdcd00\">test_run</strong> at: <a href='https://wandb.ai/matus13579/NN-z1/runs/1xpsf9vo' target=\"_blank\">https://wandb.ai/matus13579/NN-z1/runs/1xpsf9vo</a><br/>Synced 5 W&B file(s), 0 media file(s), 0 artifact file(s) and 0 other file(s)"
      ],
      "text/plain": [
       "<IPython.core.display.HTML object>"
      ]
     },
     "metadata": {},
     "output_type": "display_data"
    },
    {
     "data": {
      "text/html": [
       "Find logs at: <code>.\\wandb\\run-20240318_230619-1xpsf9vo\\logs</code>"
      ],
      "text/plain": [
       "<IPython.core.display.HTML object>"
      ]
     },
     "metadata": {},
     "output_type": "display_data"
    }
   ],
   "source": [
    "# TODO Save model in wandb\n",
    "\n",
    "# Finish run\n",
    "myrun.finish()"
   ]
  }
 ],
 "metadata": {
  "kernelspec": {
   "display_name": "NN",
   "language": "python",
   "name": "python3"
  },
  "language_info": {
   "codemirror_mode": {
    "name": "ipython",
    "version": 3
   },
   "file_extension": ".py",
   "mimetype": "text/x-python",
   "name": "python",
   "nbconvert_exporter": "python",
   "pygments_lexer": "ipython3",
   "version": "3.12.2"
  }
 },
 "nbformat": 4,
 "nbformat_minor": 2
}
