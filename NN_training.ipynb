{
 "cells": [
  {
   "cell_type": "markdown",
   "metadata": {},
   "source": [
    "# __Predicting cell biological response__"
   ]
  },
  {
   "cell_type": "code",
   "execution_count": 1,
   "metadata": {},
   "outputs": [],
   "source": [
    "import wandb\n",
    "import pandas as pd\n",
    "from torch.utils.data import Dataset\n",
    "from sklearn.model_selection import train_test_split\n",
    "import logging"
   ]
  },
  {
   "cell_type": "markdown",
   "metadata": {},
   "source": [
    "#### Run other .ipybn files"
   ]
  },
  {
   "cell_type": "code",
   "execution_count": 10,
   "metadata": {},
   "outputs": [
    {
     "name": "stdout",
     "output_type": "stream",
     "text": [
      "         D1        D2    D3   D4        D5        D6        D7        D8  \\\n",
      "0  0.000000  0.497009  0.10  0.0  0.132956  0.678031  0.273166  0.585445   \n",
      "1  0.366667  0.606291  0.05  0.0  0.111209  0.803455  0.106105  0.411754   \n",
      "2  0.033300  0.480124  0.00  0.0  0.209791  0.610350  0.356453  0.517720   \n",
      "3  0.000000  0.538825  0.00  0.5  0.196344  0.724230  0.235606  0.288764   \n",
      "4  0.100000  0.517794  0.00  0.0  0.494734  0.781422  0.154361  0.303809   \n",
      "\n",
      "         D9       D10  ...  D1768  D1769  D1770  D1771  D1772  D1773  D1774  \\\n",
      "0  0.743663  0.243144  ...    0.0    0.0    0.0    0.0    0.0    0.0    0.0   \n",
      "1  0.836582  0.106480  ...    1.0    1.0    1.0    0.0    1.0    0.0    0.0   \n",
      "2  0.679051  0.352308  ...    0.0    0.0    0.0    0.0    0.0    0.0    0.0   \n",
      "3  0.805110  0.208989  ...    0.0    0.0    0.0    0.0    0.0    0.0    0.0   \n",
      "4  0.812646  0.125177  ...    0.0    0.0    0.0    0.0    0.0    0.0    0.0   \n",
      "\n",
      "   D1775  D1776  target  \n",
      "0    0.0    0.0       1  \n",
      "1    1.0    0.0       1  \n",
      "2    0.0    0.0       1  \n",
      "3    0.0    0.0       1  \n",
      "4    0.0    0.0       0  \n",
      "\n",
      "[5 rows x 1777 columns]\n",
      "<class 'pandas.core.frame.DataFrame'>\n",
      "RangeIndex: 3751 entries, 0 to 3750\n",
      "Columns: 1777 entries, D1 to target\n",
      "dtypes: float64(1776), int64(1)\n",
      "memory usage: 50.9 MB\n",
      "None\n",
      "                D1           D2           D3           D4           D5  \\\n",
      "count  3751.000000  3751.000000  3751.000000  3751.000000  3751.000000   \n",
      "mean      0.076948     0.592436     0.068142     0.038990     0.212112   \n",
      "std       0.079989     0.105860     0.078414     0.115885     0.102592   \n",
      "min       0.000000     0.282128     0.000000     0.000000     0.002630   \n",
      "25%       0.033300     0.517811     0.000000     0.000000     0.138118   \n",
      "50%       0.066700     0.585989     0.050000     0.000000     0.190926   \n",
      "75%       0.100000     0.668395     0.100000     0.000000     0.261726   \n",
      "max       1.000000     0.964381     0.950000     1.000000     1.000000   \n",
      "\n",
      "                D6           D7           D8           D9          D10  ...  \\\n",
      "count  3751.000000  3751.000000  3751.000000  3751.000000  3751.000000  ...   \n",
      "mean      0.686653     0.274713     0.455133     0.749517     0.270411  ...   \n",
      "std       0.078702     0.090017     0.162731     0.071702     0.096128  ...   \n",
      "min       0.137873     0.006130     0.000000     0.275590     0.003040  ...   \n",
      "25%       0.625627     0.207374     0.378062     0.707339     0.194357  ...   \n",
      "50%       0.674037     0.277845     0.499942     0.738961     0.284316  ...   \n",
      "75%       0.740663     0.335816     0.569962     0.788177     0.344626  ...   \n",
      "max       0.994735     0.790831     0.989870     1.000000     1.000000  ...   \n",
      "\n",
      "             D1768        D1769        D1770        D1771        D1772  \\\n",
      "count  3751.000000  3751.000000  3751.000000  3751.000000  3751.000000   \n",
      "mean      0.014663     0.013863     0.021861     0.015196     0.016796   \n",
      "std       0.120215     0.116938     0.146249     0.122348     0.128522   \n",
      "min       0.000000     0.000000     0.000000     0.000000     0.000000   \n",
      "25%       0.000000     0.000000     0.000000     0.000000     0.000000   \n",
      "50%       0.000000     0.000000     0.000000     0.000000     0.000000   \n",
      "75%       0.000000     0.000000     0.000000     0.000000     0.000000   \n",
      "max       1.000000     1.000000     1.000000     1.000000     1.000000   \n",
      "\n",
      "             D1773        D1774        D1775        D1776       target  \n",
      "count  3751.000000  3751.000000  3751.000000  3751.000000  3751.000000  \n",
      "mean      0.012263     0.011730     0.020261     0.011197     0.542255  \n",
      "std       0.110074     0.107683     0.140911     0.105236     0.498278  \n",
      "min       0.000000     0.000000     0.000000     0.000000     0.000000  \n",
      "25%       0.000000     0.000000     0.000000     0.000000     0.000000  \n",
      "50%       0.000000     0.000000     0.000000     0.000000     1.000000  \n",
      "75%       0.000000     0.000000     0.000000     0.000000     1.000000  \n",
      "max       1.000000     1.000000     1.000000     1.000000     1.000000  \n",
      "\n",
      "[8 rows x 1777 columns]\n",
      "D1        float64\n",
      "D2        float64\n",
      "D3        float64\n",
      "D4        float64\n",
      "D5        float64\n",
      "           ...   \n",
      "D1773     float64\n",
      "D1774     float64\n",
      "D1775     float64\n",
      "D1776     float64\n",
      "target      int64\n",
      "Length: 1777, dtype: object\n"
     ]
    }
   ],
   "source": [
    "%run NN_model.ipynb\n",
    "#from NN_model import *\n",
    "\n",
    "%run NN_dataset.ipynb"
   ]
  },
  {
   "cell_type": "markdown",
   "metadata": {},
   "source": [
    "#### Dataset representation for NN model"
   ]
  },
  {
   "cell_type": "code",
   "execution_count": 3,
   "metadata": {},
   "outputs": [],
   "source": [
    "class CellDataset(Dataset):\n",
    "    def __init__(self, data: pd.DataFrame, normalize: bool):\n",
    "        # Save predictors as DataFrame\n",
    "        self.cell_descriptors = data.drop(columns=['target'])\n",
    "        res = data['target']\n",
    "\n",
    "        #if normalize:\n",
    "            #res = res.apply(lambda x: -1 if x == 0 else 1)\n",
    "\n",
    "        # Save target as DataFrame\n",
    "        self.cell_response = res.astype('float64').to_frame()\n",
    "\n",
    "    def __len__(self):\n",
    "        return len(self.cell_descriptors)\n",
    "\n",
    "    def __getitem__(self, idx):\n",
    "        desc = self.cell_descriptors.iloc[idx]\n",
    "        res = self.cell_response.iloc[idx]\n",
    "        return desc.values, res.values\n",
    "    \n",
    "    def get_input_size(self):\n",
    "        return self.cell_descriptors.shape[1]"
   ]
  },
  {
   "cell_type": "markdown",
   "metadata": {},
   "source": [
    "## Wandb Project"
   ]
  },
  {
   "cell_type": "code",
   "execution_count": 12,
   "metadata": {},
   "outputs": [
    {
     "name": "stdout",
     "output_type": "stream",
     "text": [
      "env: \"WANDB_NOTEBOOK_NAME\"=\"NN\"\n"
     ]
    },
    {
     "data": {
      "text/html": [
       "Tracking run with wandb version 0.16.4"
      ],
      "text/plain": [
       "<IPython.core.display.HTML object>"
      ]
     },
     "metadata": {},
     "output_type": "display_data"
    },
    {
     "data": {
      "text/html": [
       "Run data is saved locally in <code>c:\\Users\\matul\\Desktop\\NSIETE-z1\\wandb\\run-20240319_173056-nr5ddbj1</code>"
      ],
      "text/plain": [
       "<IPython.core.display.HTML object>"
      ]
     },
     "metadata": {},
     "output_type": "display_data"
    },
    {
     "data": {
      "text/html": [
       "Syncing run <strong><a href='https://wandb.ai/matus13579/NN-z1/runs/nr5ddbj1' target=\"_blank\">relu_test</a></strong> to <a href='https://wandb.ai/matus13579/NN-z1' target=\"_blank\">Weights & Biases</a> (<a href='https://wandb.me/run' target=\"_blank\">docs</a>)<br/>"
      ],
      "text/plain": [
       "<IPython.core.display.HTML object>"
      ]
     },
     "metadata": {},
     "output_type": "display_data"
    },
    {
     "data": {
      "text/html": [
       " View project at <a href='https://wandb.ai/matus13579/NN-z1' target=\"_blank\">https://wandb.ai/matus13579/NN-z1</a>"
      ],
      "text/plain": [
       "<IPython.core.display.HTML object>"
      ]
     },
     "metadata": {},
     "output_type": "display_data"
    },
    {
     "data": {
      "text/html": [
       " View run at <a href='https://wandb.ai/matus13579/NN-z1/runs/nr5ddbj1' target=\"_blank\">https://wandb.ai/matus13579/NN-z1/runs/nr5ddbj1</a>"
      ],
      "text/plain": [
       "<IPython.core.display.HTML object>"
      ]
     },
     "metadata": {},
     "output_type": "display_data"
    }
   ],
   "source": [
    "wandb.login()\n",
    "\n",
    "%env \"WANDB_NOTEBOOK_NAME\" \"NN\"\n",
    "\n",
    "run = wandb.init(\n",
    "    entity = \"matus13579\",  #dont change\n",
    "    project = \"NN-z1\",      #dont change\n",
    "    name = \"relu_test\"      #run name\n",
    "    #settings=wandb.Settings(start_method=\"fork\")\n",
    "    #id =                   #define run with ID (used for resuming)\n",
    "    #resume = True           #resume run\n",
    "    )\n",
    "\n",
    "#show graphs in Jupyter Notebook\n",
    "#%%wandb                   \n",
    "\n",
    "logger = logging.getLogger(\"wandb\")\n",
    "logger.setLevel(logging.ERROR)"
   ]
  },
  {
   "cell_type": "markdown",
   "metadata": {},
   "source": [
    "## Experiments"
   ]
  },
  {
   "cell_type": "code",
   "execution_count": 5,
   "metadata": {},
   "outputs": [],
   "source": [
    "data = pd.read_csv('bioresponse.csv')"
   ]
  },
  {
   "cell_type": "markdown",
   "metadata": {},
   "source": [
    "#### Load Dataset and Initialize NN model"
   ]
  },
  {
   "cell_type": "code",
   "execution_count": 6,
   "metadata": {},
   "outputs": [],
   "source": [
    "def setup_experiment(current_data):\n",
    "    # Split dataset -> 20% testing, 80% training\n",
    "    # Stratified split = each dataset has equal amounts of each class (saved in column 'target')\n",
    "    train, test = train_test_split(current_data, test_size = 0.2, stratify = current_data['target']) \n",
    "\n",
    "    # Initlize dataset for NN\n",
    "    train_data = CellDataset(train, False)\n",
    "    test_data = CellDataset(test, False)\n",
    "\n",
    "    # Create NN and training class\n",
    "    mlp = MultiLayerPerceptron(train_data.get_input_size())\n",
    "    trainer = Trainer(config, mlp)\n",
    "\n",
    "    # Load dataset\n",
    "    trainer.load_dataset(train_data, test_data)\n",
    "\n",
    "    return trainer"
   ]
  },
  {
   "cell_type": "markdown",
   "metadata": {},
   "source": [
    "### Training loop"
   ]
  },
  {
   "cell_type": "code",
   "execution_count": 7,
   "metadata": {},
   "outputs": [],
   "source": [
    "def run_experiment(myrun, trainer: Trainer, no_epochs):\n",
    "    best_model = None\n",
    "    best_accuracy = None\n",
    "\n",
    "    for epoch in range(no_epochs):\n",
    "        # Train model\n",
    "        trainer.train()\n",
    "\n",
    "        # Get metrics\n",
    "        metrics = trainer.evaluate()\n",
    "\n",
    "        loss_tr, loss_val = trainer.mean_loss()\n",
    "        \n",
    "        print (f\"Epoch {epoch}\")\n",
    "        print (f\"loss_training: {loss_tr} | loss_validate: {loss_val}\")\n",
    "\n",
    "        myrun.log({\"loss_training\": loss_tr})\n",
    "        myrun.log({\"loss_validate\": loss_val})\n",
    "        myrun.log({\"accuracy\": metrics.accuracy})\n",
    "        myrun.log({\"f1_score\": metrics.accuracy})\n",
    "        \n",
    "        if (best_accuracy is None) or (best_accuracy > metrics.accuracy):\n",
    "            best_accuracy = metrics.accuracy\n",
    "            best_model = trainer.model\n",
    "\n",
    "    run.finish()"
   ]
  },
  {
   "cell_type": "markdown",
   "metadata": {},
   "source": [
    "#### Experiment 1"
   ]
  },
  {
   "cell_type": "code",
   "execution_count": 8,
   "metadata": {},
   "outputs": [],
   "source": [
    "current_data = pca(data)\n",
    "\n",
    "config.activation_fn = \"sigmoid\""
   ]
  },
  {
   "cell_type": "code",
   "execution_count": 13,
   "metadata": {},
   "outputs": [
    {
     "name": "stdout",
     "output_type": "stream",
     "text": [
      "Using cpu device for training\n",
      "751\n",
      "751\n",
      "Epoch 0\n",
      "loss_training: 11.255785942077637 | loss_validate: 11.202285766601562\n",
      "751\n",
      "751\n",
      "Epoch 1\n",
      "loss_training: 11.108776092529297 | loss_validate: 11.042496681213379\n",
      "751\n",
      "751\n",
      "Epoch 2\n",
      "loss_training: 10.974613189697266 | loss_validate: 10.929892539978027\n",
      "751\n",
      "751\n",
      "Epoch 3\n",
      "loss_training: 10.861672401428223 | loss_validate: 10.779635429382324\n",
      "751\n",
      "751\n",
      "Epoch 4\n",
      "loss_training: 10.730395317077637 | loss_validate: 10.670916557312012\n",
      "751\n",
      "751\n",
      "Epoch 5\n",
      "loss_training: 10.596272468566895 | loss_validate: 10.536229133605957\n",
      "751\n",
      "751\n",
      "Epoch 6\n",
      "loss_training: 10.468182563781738 | loss_validate: 10.435379981994629\n",
      "751\n",
      "751\n",
      "Epoch 7\n",
      "loss_training: 10.345791816711426 | loss_validate: 10.271409034729004\n",
      "751\n",
      "751\n",
      "Epoch 8\n",
      "loss_training: 10.211901664733887 | loss_validate: 10.165882110595703\n",
      "751\n",
      "751\n",
      "Epoch 9\n",
      "loss_training: 10.086590766906738 | loss_validate: 10.027312278747559\n",
      "751\n",
      "751\n",
      "Epoch 10\n",
      "loss_training: 9.961167335510254 | loss_validate: 9.89496898651123\n",
      "751\n",
      "751\n",
      "Epoch 11\n",
      "loss_training: 9.843804359436035 | loss_validate: 9.766539573669434\n",
      "751\n",
      "751\n",
      "Epoch 12\n",
      "loss_training: 9.712592124938965 | loss_validate: 9.642043113708496\n",
      "751\n",
      "751\n",
      "Epoch 13\n",
      "loss_training: 9.581482887268066 | loss_validate: 9.530943870544434\n",
      "751\n",
      "751\n",
      "Epoch 14\n",
      "loss_training: 9.450469970703125 | loss_validate: 9.394744873046875\n",
      "751\n",
      "751\n",
      "Epoch 15\n",
      "loss_training: 9.347949981689453 | loss_validate: 9.254653930664062\n",
      "751\n",
      "751\n",
      "Epoch 16\n",
      "loss_training: 9.17061710357666 | loss_validate: 9.12477970123291\n",
      "751\n",
      "751\n",
      "Epoch 17\n",
      "loss_training: 9.052977561950684 | loss_validate: 9.016651153564453\n",
      "751\n",
      "751\n",
      "Epoch 18\n",
      "loss_training: 8.94229793548584 | loss_validate: 8.873621940612793\n",
      "751\n",
      "751\n",
      "Epoch 19\n",
      "loss_training: 8.787060737609863 | loss_validate: 8.731399536132812\n",
      "751\n",
      "751\n",
      "Epoch 20\n",
      "loss_training: 8.690571784973145 | loss_validate: 8.615256309509277\n",
      "751\n",
      "751\n",
      "Epoch 21\n",
      "loss_training: 8.533631324768066 | loss_validate: 8.49059772491455\n",
      "751\n",
      "751\n",
      "Epoch 22\n",
      "loss_training: 8.41283893585205 | loss_validate: 8.362349510192871\n",
      "751\n",
      "751\n",
      "Epoch 23\n",
      "loss_training: 8.266562461853027 | loss_validate: 8.222737312316895\n",
      "751\n",
      "751\n",
      "Epoch 24\n",
      "loss_training: 8.139174461364746 | loss_validate: 8.119529724121094\n",
      "751\n",
      "751\n",
      "Epoch 25\n",
      "loss_training: 8.053973197937012 | loss_validate: 7.9632720947265625\n",
      "751\n",
      "751\n",
      "Epoch 26\n",
      "loss_training: 7.914309024810791 | loss_validate: 7.85407829284668\n",
      "751\n",
      "751\n",
      "Epoch 27\n",
      "loss_training: 7.807409763336182 | loss_validate: 7.714258193969727\n",
      "751\n",
      "751\n",
      "Epoch 28\n",
      "loss_training: 7.655054569244385 | loss_validate: 7.59514045715332\n",
      "751\n",
      "751\n",
      "Epoch 29\n",
      "loss_training: 7.518417835235596 | loss_validate: 7.454737186431885\n",
      "751\n",
      "751\n",
      "Epoch 30\n",
      "loss_training: 7.394473552703857 | loss_validate: 7.328020095825195\n",
      "751\n",
      "751\n",
      "Epoch 31\n",
      "loss_training: 7.266300678253174 | loss_validate: 7.198337554931641\n",
      "751\n",
      "751\n",
      "Epoch 32\n",
      "loss_training: 7.1400980949401855 | loss_validate: 7.084407806396484\n",
      "751\n",
      "751\n",
      "Epoch 33\n",
      "loss_training: 7.025410175323486 | loss_validate: 6.947234630584717\n",
      "751\n",
      "751\n",
      "Epoch 34\n",
      "loss_training: 6.8719658851623535 | loss_validate: 6.802566051483154\n",
      "751\n",
      "751\n",
      "Epoch 35\n",
      "loss_training: 6.751588821411133 | loss_validate: 6.69219446182251\n",
      "751\n",
      "751\n",
      "Epoch 36\n",
      "loss_training: 6.627152919769287 | loss_validate: 6.559848785400391\n",
      "751\n",
      "751\n",
      "Epoch 37\n",
      "loss_training: 6.480992794036865 | loss_validate: 6.444927215576172\n",
      "751\n",
      "751\n",
      "Epoch 38\n",
      "loss_training: 6.360487461090088 | loss_validate: 6.314045429229736\n",
      "751\n",
      "751\n",
      "Epoch 39\n",
      "loss_training: 6.225788593292236 | loss_validate: 6.167171478271484\n",
      "751\n",
      "751\n",
      "Epoch 40\n",
      "loss_training: 6.133659839630127 | loss_validate: 6.064359664916992\n",
      "751\n",
      "751\n",
      "Epoch 41\n",
      "loss_training: 5.989758014678955 | loss_validate: 5.912892818450928\n",
      "751\n",
      "751\n",
      "Epoch 42\n",
      "loss_training: 5.867849826812744 | loss_validate: 5.793891906738281\n",
      "751\n",
      "751\n",
      "Epoch 43\n",
      "loss_training: 5.729705810546875 | loss_validate: 5.671254634857178\n",
      "751\n",
      "751\n",
      "Epoch 44\n",
      "loss_training: 5.609172344207764 | loss_validate: 5.533628940582275\n",
      "751\n",
      "751\n",
      "Epoch 45\n",
      "loss_training: 5.460994720458984 | loss_validate: 5.400163650512695\n",
      "751\n",
      "751\n",
      "Epoch 46\n",
      "loss_training: 5.328906059265137 | loss_validate: 5.271335601806641\n",
      "751\n",
      "751\n",
      "Epoch 47\n",
      "loss_training: 5.212932586669922 | loss_validate: 5.155815601348877\n",
      "751\n",
      "751\n",
      "Epoch 48\n",
      "loss_training: 5.079300880432129 | loss_validate: 5.018489837646484\n",
      "751\n",
      "751\n",
      "Epoch 49\n",
      "loss_training: 4.954319953918457 | loss_validate: 4.898387432098389\n"
     ]
    },
    {
     "data": {
      "application/vnd.jupyter.widget-view+json": {
       "model_id": "27917fd3636942499dea0ab660348660",
       "version_major": 2,
       "version_minor": 0
      },
      "text/plain": [
       "VBox(children=(Label(value='0.001 MB of 0.001 MB uploaded\\r'), FloatProgress(value=1.0, max=1.0)))"
      ]
     },
     "metadata": {},
     "output_type": "display_data"
    },
    {
     "data": {
      "text/html": [
       "<style>\n",
       "    table.wandb td:nth-child(1) { padding: 0 10px; text-align: left ; width: auto;} td:nth-child(2) {text-align: left ; width: 100%}\n",
       "    .wandb-row { display: flex; flex-direction: row; flex-wrap: wrap; justify-content: flex-start; width: 100% }\n",
       "    .wandb-col { display: flex; flex-direction: column; flex-basis: 100%; flex: 1; padding: 10px; }\n",
       "    </style>\n",
       "<div class=\"wandb-row\"><div class=\"wandb-col\"><h3>Run history:</h3><br/><table class=\"wandb\"><tr><td>accuracy</td><td>▁▁▁▁▁▁▁▁▁▁▁▁▁▁▁▁▁▁▁▁▁▁▁▁▁▁▁▁▁▁▁▁▁▁▁▁▁▁▁▁</td></tr><tr><td>f1_score</td><td>▁▁▁▁▁▁▁▁▁▁▁▁▁▁▁▁▁▁▁▁▁▁▁▁▁▁▁▁▁▁▁▁▁▁▁▁▁▁▁▁</td></tr><tr><td>loss_training</td><td>████▇▇▇▇▇▆▆▆▆▆▆▅▅▅▅▅▄▄▄▄▄▄▃▃▃▃▃▃▂▂▂▂▂▁▁▁</td></tr><tr><td>loss_validate</td><td>████▇▇▇▇▇▆▆▆▆▆▆▅▅▅▅▅▄▄▄▄▄▄▃▃▃▃▃▃▂▂▂▂▂▁▁▁</td></tr></table><br/></div><div class=\"wandb-col\"><h3>Run summary:</h3><br/><table class=\"wandb\"><tr><td>accuracy</td><td>0.5419</td></tr><tr><td>f1_score</td><td>0.5419</td></tr><tr><td>loss_training</td><td>4.95432</td></tr><tr><td>loss_validate</td><td>4.89839</td></tr></table><br/></div></div>"
      ],
      "text/plain": [
       "<IPython.core.display.HTML object>"
      ]
     },
     "metadata": {},
     "output_type": "display_data"
    },
    {
     "data": {
      "text/html": [
       " View run <strong style=\"color:#cdcd00\">relu_test</strong> at: <a href='https://wandb.ai/matus13579/NN-z1/runs/nr5ddbj1' target=\"_blank\">https://wandb.ai/matus13579/NN-z1/runs/nr5ddbj1</a><br/>Synced 5 W&B file(s), 0 media file(s), 0 artifact file(s) and 0 other file(s)"
      ],
      "text/plain": [
       "<IPython.core.display.HTML object>"
      ]
     },
     "metadata": {},
     "output_type": "display_data"
    },
    {
     "data": {
      "text/html": [
       "Find logs at: <code>.\\wandb\\run-20240319_173056-nr5ddbj1\\logs</code>"
      ],
      "text/plain": [
       "<IPython.core.display.HTML object>"
      ]
     },
     "metadata": {},
     "output_type": "display_data"
    }
   ],
   "source": [
    "current_trainer = setup_experiment(current_data)\n",
    "run_experiment(run, current_trainer, 50)"
   ]
  }
 ],
 "metadata": {
  "kernelspec": {
   "display_name": "NN",
   "language": "python",
   "name": "python3"
  },
  "language_info": {
   "codemirror_mode": {
    "name": "ipython",
    "version": 3
   },
   "file_extension": ".py",
   "mimetype": "text/x-python",
   "name": "python",
   "nbconvert_exporter": "python",
   "pygments_lexer": "ipython3",
   "version": "3.12.2"
  }
 },
 "nbformat": 4,
 "nbformat_minor": 2
}
