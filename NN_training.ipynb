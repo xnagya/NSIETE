{
 "cells": [
  {
   "cell_type": "markdown",
   "metadata": {},
   "source": [
    "# __Predicting cell biological response__"
   ]
  },
  {
   "cell_type": "code",
   "execution_count": null,
   "metadata": {},
   "outputs": [],
   "source": [
    "import wandb\n",
    "import pandas as pd\n",
    "from torch.utils.data import Dataset\n",
    "from sklearn.model_selection import train_test_split\n",
    "import logging"
   ]
  },
  {
   "cell_type": "markdown",
   "metadata": {},
   "source": [
    "#### Run other .ipybn files"
   ]
  },
  {
   "cell_type": "code",
   "execution_count": null,
   "metadata": {},
   "outputs": [],
   "source": [
    "# %run NN_model.ipynb\n",
    "from NN_model import *\n",
    "\n",
    "%run NN_dataset.ipynb"
   ]
  },
  {
   "cell_type": "markdown",
   "metadata": {},
   "source": [
    "#### Dataset representation for NN model"
   ]
  },
  {
   "cell_type": "code",
   "execution_count": null,
   "metadata": {},
   "outputs": [],
   "source": [
    "class CellDataset(Dataset):\n",
    "    def __init__(self, data: pd.DataFrame, normalize: bool):\n",
    "        # Save predictors as DataFrame\n",
    "        self.cell_descriptors = data.drop(columns=['target'])\n",
    "\n",
    "        # Normalize target value to [-1, 1]\n",
    "        res = data['target']\n",
    "        if normalize:\n",
    "            res = res.apply(lambda x: -1 if x == 0 else 1)\n",
    "\n",
    "        # Save target as DataFrame\n",
    "        self.cell_response = res.astype('float64').to_frame()\n",
    "\n",
    "    def __len__(self):\n",
    "        return len(self.cell_descriptors)\n",
    "\n",
    "    def __getitem__(self, idx):\n",
    "        desc = self.cell_descriptors.iloc[idx]\n",
    "        res = self.cell_response.iloc[idx]\n",
    "        return desc.values, res.values\n",
    "    \n",
    "    def get_input_size(self):\n",
    "        return self.cell_descriptors.shape[1]"
   ]
  },
  {
   "cell_type": "markdown",
   "metadata": {},
   "source": [
    "## Wandb Project"
   ]
  },
  {
   "cell_type": "code",
   "execution_count": null,
   "metadata": {},
   "outputs": [],
   "source": [
    "wandb.login()\n",
    "\n",
    "%env \"WANDB_NOTEBOOK_NAME\" \"NN-z1\"\n",
    "\n",
    "run = wandb.init(\n",
    "    entity = \"matus13579\",  #dont change\n",
    "    project = \"NN-z1\",      #dont change\n",
    "    name = \"test_run\"       #run name\n",
    "    #id =                   #define run with ID (used for resuming)\n",
    "    #resume = True           #resume run\n",
    "    )\n",
    "\n",
    "#show graphs in Jupyter Notebook\n",
    "#%%wandb                   \n",
    "\n",
    "logger = logging.getLogger(\"wandb\")\n",
    "logger.setLevel(logging.ERROR)"
   ]
  },
  {
   "cell_type": "markdown",
   "metadata": {},
   "source": [
    "## Experiments"
   ]
  },
  {
   "cell_type": "code",
   "execution_count": null,
   "metadata": {},
   "outputs": [],
   "source": [
    "data = pd.read_csv('bioresponse.csv')"
   ]
  },
  {
   "cell_type": "markdown",
   "metadata": {},
   "source": [
    "#### Load Dataset and Initialize NN model"
   ]
  },
  {
   "cell_type": "code",
   "execution_count": null,
   "metadata": {},
   "outputs": [],
   "source": [
    "def setup_experiment(current_data):\n",
    "    # Split dataset -> 20% testing, 80% training\n",
    "    # Stratified split = each dataset has equal amounts of each class (saved in column 'target')\n",
    "    train, test = train_test_split(current_data, test_size = 0.2, stratify = current_data['target']) \n",
    "\n",
    "    # Initlize dataset for NN\n",
    "    train_data = CellDataset(train, normalize_dataset())\n",
    "    test_data = CellDataset(test, normalize_dataset())\n",
    "\n",
    "    # Create NN and training class\n",
    "    mlp = MultiLayerPerceptron(train_data.get_input_size())\n",
    "    trainer = Trainer(config, mlp)\n",
    "\n",
    "    # Load dataset\n",
    "    trainer.load_dataset(train_data, test_data)\n",
    "\n",
    "    return trainer"
   ]
  },
  {
   "cell_type": "markdown",
   "metadata": {},
   "source": [
    "### Training loop"
   ]
  },
  {
   "cell_type": "code",
   "execution_count": null,
   "metadata": {},
   "outputs": [],
   "source": [
    "def run_experiment(myrun, trainer: Trainer, no_epochs):\n",
    "    best_model = None\n",
    "    best_accuracy = None\n",
    "\n",
    "    for epoch in range(no_epochs):\n",
    "        print (f\"Epoch {epoch}\")\n",
    "\n",
    "        # Train model\n",
    "        trainer.train()\n",
    "\n",
    "        # Get metrics\n",
    "        metrics = trainer.evaluate()\n",
    "\n",
    "        loss_tr, loss_val = trainer.mean_loss()\n",
    "\n",
    "        print (f\"loss_training: {loss_tr} | loss_validate: {loss_val}\")\n",
    "\n",
    "        myrun.log({\"loss_training\": loss_tr})\n",
    "        myrun.log({\"loss_validate\": loss_val})\n",
    "        myrun.log({\"accuracy\": metrics.accuracy})\n",
    "        myrun.log({\"f1_score\": metrics.accuracy})\n",
    "\n",
    "        if (best_accuracy is None) or (best_accuracy > metrics.accuracy):\n",
    "            best_accuracy = metrics.accuracy\n",
    "            best_model = trainer.model\n"
   ]
  },
  {
   "cell_type": "markdown",
   "metadata": {},
   "source": [
    "#### Experiment 1"
   ]
  },
  {
   "cell_type": "code",
   "execution_count": null,
   "metadata": {},
   "outputs": [],
   "source": [
    "current_data = correlation_selection_merged(data)\n",
    "\n",
    "config.activation_fn = \"sigmoid\""
   ]
  },
  {
   "cell_type": "code",
   "execution_count": null,
   "metadata": {},
   "outputs": [],
   "source": [
    "current_trainer = setup_experiment(current_data)"
   ]
  },
  {
   "cell_type": "code",
   "execution_count": null,
   "metadata": {},
   "outputs": [],
   "source": [
    "current_trainer = setup_experiment(current_data)\n",
    "run_experiment(run, current_trainer, 10)"
   ]
  }
 ],
 "metadata": {
  "kernelspec": {
   "display_name": "NN",
   "language": "python",
   "name": "python3"
  },
  "language_info": {
   "codemirror_mode": {
    "name": "ipython",
    "version": 3
   },
   "file_extension": ".py",
   "mimetype": "text/x-python",
   "name": "python",
   "nbconvert_exporter": "python",
   "pygments_lexer": "ipython3",
   "version": "3.12.2"
  }
 },
 "nbformat": 4,
 "nbformat_minor": 2
}
