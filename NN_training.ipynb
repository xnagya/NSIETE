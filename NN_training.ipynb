{
 "cells": [
  {
   "cell_type": "markdown",
   "metadata": {},
   "source": [
    "# __Predicting cell biological response__"
   ]
  },
  {
   "cell_type": "code",
   "execution_count": null,
   "metadata": {},
   "outputs": [],
   "source": [
    "import wandb\n",
    "import pandas as pd\n",
    "from torch.utils.data import Dataset\n",
    "from sklearn.model_selection import train_test_split\n",
    "import logging"
   ]
  },
  {
   "cell_type": "markdown",
   "metadata": {},
   "source": [
    "#### Run other .ipybn files"
   ]
  },
  {
   "cell_type": "code",
   "execution_count": null,
   "metadata": {},
   "outputs": [],
   "source": [
    "%run NN_model.ipynb\n",
    "#from NN_model import *\n",
    "\n",
    "%run NN_dataset.ipynb"
   ]
  },
  {
   "cell_type": "markdown",
   "metadata": {},
   "source": [
    "#### Dataset representation for NN model"
   ]
  },
  {
   "cell_type": "code",
   "execution_count": null,
   "metadata": {},
   "outputs": [],
   "source": [
    "class CellDataset(Dataset):\n",
    "    def __init__(self, data: pd.DataFrame, normalize: bool):\n",
    "        # Save predictors as DataFrame\n",
    "        self.cell_descriptors = data.drop(columns=['target'])\n",
    "        res = data['target']\n",
    "\n",
    "        # Save target as DataFrame\n",
    "        self.cell_response = res.astype('float64').to_frame()\n",
    "\n",
    "    def __len__(self):\n",
    "        return len(self.cell_descriptors)\n",
    "\n",
    "    def __getitem__(self, idx):\n",
    "        desc = self.cell_descriptors.iloc[idx]\n",
    "        res = self.cell_response.iloc[idx]\n",
    "        return desc.values, res.values\n",
    "    \n",
    "    def get_input_size(self):\n",
    "        return self.cell_descriptors.shape[1]"
   ]
  },
  {
   "cell_type": "markdown",
   "metadata": {},
   "source": [
    "## Wandb Project"
   ]
  },
  {
   "cell_type": "code",
   "execution_count": null,
   "metadata": {},
   "outputs": [],
   "source": [
    "wandb.login()\n",
    "\n",
    "%env \"WANDB_NOTEBOOK_NAME\" \"NN\"\n",
    "\n",
    "\"\"\"\n",
    "run = wandb.init(\n",
    "    entity = \"matus13579\",  #dont change\n",
    "    project = \"NN-z1\",      #dont change\n",
    "    name = \"relu_test\"      #run name\n",
    "    #settings=wandb.Settings(start_method=\"fork\")\n",
    "    #id =                   #define run with ID (used for resuming)\n",
    "    #resume = True           #resume run\n",
    "    )\n",
    "\"\"\"\n",
    "\n",
    "#show graphs in Jupyter Notebook\n",
    "#%%wandb                   \n",
    "\n",
    "logger = logging.getLogger(\"wandb\")\n",
    "logger.setLevel(logging.ERROR)"
   ]
  },
  {
   "cell_type": "markdown",
   "metadata": {},
   "source": [
    "## Experiments"
   ]
  },
  {
   "cell_type": "markdown",
   "metadata": {},
   "source": [
    "#### Load Dataset and Initialize NN model"
   ]
  },
  {
   "cell_type": "code",
   "execution_count": null,
   "metadata": {},
   "outputs": [],
   "source": [
    "def setup_experiment(current_data):\n",
    "    # Split dataset -> 20% testing, 80% training\n",
    "    # Stratified split = each dataset has equal amounts of each class (saved in column 'target')\n",
    "    train, test = train_test_split(current_data, test_size = 0.2, stratify = current_data['target']) \n",
    "\n",
    "    # Initlize dataset for NN\n",
    "    train_data = CellDataset(train, False)\n",
    "    test_data = CellDataset(test, False)\n",
    "\n",
    "    # Create NN and training class\n",
    "    mlp = MultiLayerPerceptron(train_data.get_input_size())\n",
    "    trainer = Trainer(config, mlp)\n",
    "\n",
    "    # Load dataset\n",
    "    trainer.load_dataset(train_data, test_data)\n",
    "\n",
    "    return trainer"
   ]
  },
  {
   "cell_type": "markdown",
   "metadata": {},
   "source": [
    "### Training loop"
   ]
  },
  {
   "cell_type": "code",
   "execution_count": null,
   "metadata": {},
   "outputs": [],
   "source": [
    "def run_experiment(run_name: str, trainer: Trainer, no_epochs):\n",
    "\n",
    "    my_run = wandb.init(\n",
    "    entity = \"matus13579\", \n",
    "    project = \"NN-z1\",     \n",
    "    name = run_name    \n",
    "    )\n",
    "\n",
    "    best_model = None\n",
    "    best_accuracy = None\n",
    "\n",
    "    for epoch in range(no_epochs):\n",
    "        # Train model\n",
    "        trainer.train()\n",
    "\n",
    "        # Get metrics\n",
    "        metrics = trainer.evaluate()\n",
    "\n",
    "        # Calculate loss for epoch\n",
    "        loss_tr, loss_val = trainer.mean_loss()\n",
    "        \n",
    "        print (f\"Epoch {epoch}\")\n",
    "        print (f\"loss_training: {loss_tr} | loss_validate: {loss_val}\")\n",
    "\n",
    "        # Save metrics to wandb\n",
    "        my_run.log({\"loss_training\": loss_tr})\n",
    "        my_run.log({\"loss_validate\": loss_val})\n",
    "        my_run.log({\"accuracy\": metrics.accuracy})\n",
    "        my_run.log({\"f1_score\": metrics.f1_score})\n",
    "        \n",
    "        if (best_accuracy is None) or (best_accuracy < metrics.accuracy):\n",
    "            best_accuracy = metrics.accuracy\n",
    "            best_model = trainer.model\n",
    "\n",
    "    my_run.finish()\n",
    "    return best_model"
   ]
  },
  {
   "cell_type": "code",
   "execution_count": null,
   "metadata": {},
   "outputs": [],
   "source": [
    "data = pd.read_csv('bioresponse.csv')"
   ]
  },
  {
   "cell_type": "markdown",
   "metadata": {},
   "source": [
    "## Experiment 1 "
   ]
  },
  {
   "cell_type": "code",
   "execution_count": null,
   "metadata": {},
   "outputs": [],
   "source": [
    "# Dataset with 50 best descriptors\n",
    "current_data = tree_based_merged(data, 50)\n",
    "\n",
    "NO_epochs = 50"
   ]
  },
  {
   "cell_type": "markdown",
   "metadata": {},
   "source": [
    "####  Sigmoid"
   ]
  },
  {
   "cell_type": "code",
   "execution_count": null,
   "metadata": {},
   "outputs": [],
   "source": [
    "config.activation_fn = \"sigmoid\"\n",
    "\n",
    "current_trainer = setup_experiment(current_data)\n",
    "run_experiment(\"sig\", current_trainer, NO_epochs)"
   ]
  },
  {
   "cell_type": "markdown",
   "metadata": {},
   "source": [
    "#### Hyperbolic Tangent"
   ]
  },
  {
   "cell_type": "code",
   "execution_count": null,
   "metadata": {},
   "outputs": [],
   "source": [
    "config.activation_fn = \"tanh\"\n",
    "\n",
    "current_trainer = setup_experiment(current_data)\n",
    "run_experiment(\"tanh\", current_trainer, NO_epochs)"
   ]
  },
  {
   "cell_type": "markdown",
   "metadata": {},
   "source": [
    "#### SoftSign"
   ]
  },
  {
   "cell_type": "code",
   "execution_count": null,
   "metadata": {},
   "outputs": [],
   "source": [
    "config.activation_fn = \"softsign\"\n",
    "\n",
    "current_trainer = setup_experiment(current_data)\n",
    "run_experiment(\"softsign\", current_trainer, NO_epochs)"
   ]
  },
  {
   "cell_type": "markdown",
   "metadata": {},
   "source": [
    "#### ReLU"
   ]
  },
  {
   "cell_type": "code",
   "execution_count": null,
   "metadata": {},
   "outputs": [],
   "source": [
    "config.activation_fn = \"relu\"\n",
    "\n",
    "current_trainer = setup_experiment(current_data)\n",
    "run_experiment(\"relu\", current_trainer, NO_epochs)"
   ]
  },
  {
   "cell_type": "markdown",
   "metadata": {},
   "source": [
    "## Experiment 2"
   ]
  },
  {
   "cell_type": "code",
   "execution_count": null,
   "metadata": {},
   "outputs": [],
   "source": [
    "# Dataset with 50 best descriptors\n",
    "current_data = tree_based_merged(data, 50)\n",
    "\n",
    "NO_epochs = 500"
   ]
  },
  {
   "cell_type": "markdown",
   "metadata": {},
   "source": [
    "####  Sigmoid"
   ]
  },
  {
   "cell_type": "code",
   "execution_count": null,
   "metadata": {},
   "outputs": [],
   "source": [
    "config.activation_fn = \"sigmoid\"\n",
    "config.normalized_weight_init = True\n",
    "\n",
    "current_trainer = setup_experiment(current_data)\n",
    "run_experiment(\"sig-N\", current_trainer, NO_epochs)"
   ]
  },
  {
   "cell_type": "markdown",
   "metadata": {},
   "source": [
    "#### Hyperbolic Tangent"
   ]
  },
  {
   "cell_type": "code",
   "execution_count": null,
   "metadata": {},
   "outputs": [],
   "source": [
    "config.activation_fn = \"tanh\"\n",
    "config.normalized_weight_init = True\n",
    "\n",
    "current_trainer = setup_experiment(current_data)\n",
    "run_experiment(\"tanh-N\", current_trainer, NO_epochs)"
   ]
  },
  {
   "cell_type": "markdown",
   "metadata": {},
   "source": [
    "#### SoftSign"
   ]
  },
  {
   "cell_type": "code",
   "execution_count": null,
   "metadata": {},
   "outputs": [],
   "source": [
    "config.activation_fn = \"softsign\"\n",
    "config.normalized_weight_init = True\n",
    "\n",
    "current_trainer = setup_experiment(current_data)\n",
    "run_experiment(\"softsign-N\", current_trainer, NO_epochs)"
   ]
  },
  {
   "cell_type": "markdown",
   "metadata": {},
   "source": [
    "## Experiment 3"
   ]
  },
  {
   "cell_type": "code",
   "execution_count": null,
   "metadata": {},
   "outputs": [],
   "source": [
    "config.activation_fn = \"relu\"\n",
    "config.normalized_weight_init = True\n",
    "\n",
    "NO_epochs = 500"
   ]
  },
  {
   "cell_type": "code",
   "execution_count": null,
   "metadata": {},
   "outputs": [],
   "source": [
    "dataset_1 = correlation_selection_merged(data)\n",
    "\n",
    "current_trainer = setup_experiment(dataset_1)\n",
    "run_experiment(\"linear_corr\", dataset_1, NO_epochs)"
   ]
  },
  {
   "cell_type": "code",
   "execution_count": null,
   "metadata": {},
   "outputs": [],
   "source": [
    "dataset_2 = tree_based_merged(data, 50)\n",
    "\n",
    "current_trainer = setup_experiment(dataset_2)\n",
    "run_experiment(\"tree_select\", dataset_2, NO_epochs)"
   ]
  },
  {
   "cell_type": "code",
   "execution_count": null,
   "metadata": {},
   "outputs": [],
   "source": [
    "dataset_3 = pca(data, n_components = 25)\n",
    "\n",
    "current_trainer = setup_experiment(dataset_3)\n",
    "run_experiment(\"pca\", dataset_3, NO_epochs)"
   ]
  }
 ],
 "metadata": {
  "kernelspec": {
   "display_name": "NN",
   "language": "python",
   "name": "python3"
  },
  "language_info": {
   "codemirror_mode": {
    "name": "ipython",
    "version": 3
   },
   "file_extension": ".py",
   "mimetype": "text/x-python",
   "name": "python",
   "nbconvert_exporter": "python",
   "pygments_lexer": "ipython3",
   "version": "3.12.2"
  }
 },
 "nbformat": 4,
 "nbformat_minor": 2
}
