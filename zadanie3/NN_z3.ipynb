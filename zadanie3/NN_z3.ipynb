{
 "cells": [
  {
   "cell_type": "code",
   "execution_count": 1,
   "metadata": {},
   "outputs": [],
   "source": [
    "import net_config as cfg\n",
    "from models import *\n",
    "from trainer import *\n",
    "from experiment import *"
   ]
  },
  {
   "cell_type": "markdown",
   "metadata": {},
   "source": [
    "# Experiments"
   ]
  },
  {
   "cell_type": "code",
   "execution_count": 2,
   "metadata": {},
   "outputs": [],
   "source": [
    "embedding_path = \"embedding_matrix.npy\""
   ]
  },
  {
   "cell_type": "markdown",
   "metadata": {},
   "source": [
    "## Experiment 1 - different sequence lenghts"
   ]
  },
  {
   "cell_type": "code",
   "execution_count": 3,
   "metadata": {},
   "outputs": [],
   "source": [
    "essay_path = r\"C:\\Users\\matul\\Desktop\\NSIETE\\zadanie3\\output\\essays_tensor_representation_max50_1miss.npy\"\n",
    "pos_path = r\"C:\\Users\\matul\\Desktop\\NSIETE\\zadanie3\\output\\position_index_pairs_max50_1miss.npy\"\n",
    "sequence_len = 50\n",
    "epoch = 50"
   ]
  },
  {
   "cell_type": "code",
   "execution_count": null,
   "metadata": {},
   "outputs": [],
   "source": [
    "essay_path = r\"C:\\Users\\matul\\Desktop\\NSIETE\\zadanie3\\output\\essays_tensor_representation_max150_1miss.npy\"\n",
    "pos_path = r\"C:\\Users\\matul\\Desktop\\NSIETE\\zadanie3\\output\\position_index_pairs_max150_1miss.npy\"\n",
    "sequence_len = 150\n",
    "epoch = 50"
   ]
  },
  {
   "cell_type": "code",
   "execution_count": null,
   "metadata": {},
   "outputs": [],
   "source": [
    "essay_path = r\"C:\\Users\\matul\\Desktop\\NSIETE\\zadanie3\\output\\essays_tensor_representation_max500_1miss.npy\"\n",
    "pos_path = r\"C:\\Users\\matul\\Desktop\\NSIETE\\zadanie3\\output\\position_index_pairs_max500_1miss.npy\"\n",
    "sequence_len = 500\n",
    "epoch = 50"
   ]
  },
  {
   "cell_type": "markdown",
   "metadata": {},
   "source": [
    "RNN"
   ]
  },
  {
   "cell_type": "code",
   "execution_count": null,
   "metadata": {},
   "outputs": [],
   "source": [
    "run_name = f\"RNN-{sequence_len}\"\n",
    "\n",
    "model = RNN(\"simple\", embedding_path, cfg.config_to_dict(cfg.config_NN))\n",
    "run = wanDB_run(run_name, model)\n",
    "run.load_datasets(essay_path, pos_path)"
   ]
  },
  {
   "cell_type": "code",
   "execution_count": null,
   "metadata": {},
   "outputs": [],
   "source": [
    "run.execute_training(epoch)\n",
    "run.stop_run()"
   ]
  },
  {
   "cell_type": "markdown",
   "metadata": {},
   "source": [
    "LSTM"
   ]
  },
  {
   "cell_type": "code",
   "execution_count": null,
   "metadata": {},
   "outputs": [],
   "source": [
    "run_name = f\"lstm-{sequence_len}\"\n",
    "\n",
    "model = RNN(\"lstm\", embedding_path, cfg.config_to_dict(cfg.config_NN))\n",
    "run = wanDB_run(run_name, model)\n",
    "run.load_datasets(essay_path, pos_path)"
   ]
  },
  {
   "cell_type": "code",
   "execution_count": null,
   "metadata": {},
   "outputs": [],
   "source": [
    "run.execute_training(epoch)\n",
    "run.stop_run()"
   ]
  },
  {
   "cell_type": "markdown",
   "metadata": {},
   "source": [
    "LSTM with Momentum Cell"
   ]
  },
  {
   "cell_type": "code",
   "execution_count": 4,
   "metadata": {},
   "outputs": [
    {
     "name": "stderr",
     "output_type": "stream",
     "text": [
      "Failed to detect the name of this notebook, you can set it manually with the WANDB_NOTEBOOK_NAME environment variable to enable code saving.\n",
      "\u001b[34m\u001b[1mwandb\u001b[0m: W&B API key is configured. Use \u001b[1m`wandb login --relogin`\u001b[0m to force relogin\n"
     ]
    },
    {
     "data": {
      "application/vnd.jupyter.widget-view+json": {
       "model_id": "799bcc93d4eb4eb0828988115491c575",
       "version_major": 2,
       "version_minor": 0
      },
      "text/plain": [
       "VBox(children=(Label(value='Waiting for wandb.init()...\\r'), FloatProgress(value=0.011288888888925108, max=1.0…"
      ]
     },
     "metadata": {},
     "output_type": "display_data"
    },
    {
     "data": {
      "text/html": [
       "wandb version 0.16.6 is available!  To upgrade, please run:\n",
       " $ pip install wandb --upgrade"
      ],
      "text/plain": [
       "<IPython.core.display.HTML object>"
      ]
     },
     "metadata": {},
     "output_type": "display_data"
    },
    {
     "data": {
      "text/html": [
       "Tracking run with wandb version 0.16.4"
      ],
      "text/plain": [
       "<IPython.core.display.HTML object>"
      ]
     },
     "metadata": {},
     "output_type": "display_data"
    },
    {
     "data": {
      "text/html": [
       "Run data is saved locally in <code>c:\\Users\\matul\\Desktop\\NSIETE\\zadanie3\\wandb\\run-20240507_062150-uyzsswnl</code>"
      ],
      "text/plain": [
       "<IPython.core.display.HTML object>"
      ]
     },
     "metadata": {},
     "output_type": "display_data"
    },
    {
     "data": {
      "text/html": [
       "Syncing run <strong><a href='https://wandb.ai/matus13579/NN-z3/runs/uyzsswnl' target=\"_blank\">lstm_M-50</a></strong> to <a href='https://wandb.ai/matus13579/NN-z3' target=\"_blank\">Weights & Biases</a> (<a href='https://wandb.me/run' target=\"_blank\">docs</a>)<br/>"
      ],
      "text/plain": [
       "<IPython.core.display.HTML object>"
      ]
     },
     "metadata": {},
     "output_type": "display_data"
    },
    {
     "data": {
      "text/html": [
       " View project at <a href='https://wandb.ai/matus13579/NN-z3' target=\"_blank\">https://wandb.ai/matus13579/NN-z3</a>"
      ],
      "text/plain": [
       "<IPython.core.display.HTML object>"
      ]
     },
     "metadata": {},
     "output_type": "display_data"
    },
    {
     "data": {
      "text/html": [
       " View run at <a href='https://wandb.ai/matus13579/NN-z3/runs/uyzsswnl' target=\"_blank\">https://wandb.ai/matus13579/NN-z3/runs/uyzsswnl</a>"
      ],
      "text/plain": [
       "<IPython.core.display.HTML object>"
      ]
     },
     "metadata": {},
     "output_type": "display_data"
    },
    {
     "name": "stdout",
     "output_type": "stream",
     "text": [
      "Using cpu device for training\n"
     ]
    }
   ],
   "source": [
    "run_name = f\"lstm_M-{sequence_len}\"\n",
    "\n",
    "model = RNN(\"lstm_M\", embedding_path, cfg.config_to_dict(cfg.config_NN))\n",
    "run = wanDB_run(run_name, model)\n",
    "run.load_datasets(essay_path, pos_path)"
   ]
  },
  {
   "cell_type": "code",
   "execution_count": 5,
   "metadata": {},
   "outputs": [
    {
     "name": "stdout",
     "output_type": "stream",
     "text": [
      "--Starting epoch 1--\n",
      "Train time in sec = 51.458616495132446\n",
      "Validation time in sec = 15.545398950576782\n",
      "Test time in sec = 16.75135588645935\n",
      "--Ending epoch 1--\n",
      "--Starting epoch 2--\n",
      "Train time in sec = 88.72568488121033\n",
      "Validation time in sec = 17.31465792655945\n",
      "Test time in sec = 20.767340660095215\n",
      "--Ending epoch 2--\n",
      "--Starting epoch 3--\n",
      "Train time in sec = 81.01549911499023\n",
      "Validation time in sec = 13.397953033447266\n",
      "Test time in sec = 22.869944095611572\n",
      "--Ending epoch 3--\n",
      "--Starting epoch 4--\n",
      "Train time in sec = 79.72595953941345\n",
      "Validation time in sec = 15.173957109451294\n",
      "Test time in sec = 22.536169052124023\n",
      "--Ending epoch 4--\n",
      "--Starting epoch 5--\n",
      "Train time in sec = 68.10065722465515\n",
      "Validation time in sec = 13.766605854034424\n",
      "Test time in sec = 24.263093948364258\n",
      "--Ending epoch 5--\n",
      "--Starting epoch 6--\n",
      "Train time in sec = 75.0544581413269\n",
      "Validation time in sec = 13.650217294692993\n",
      "Test time in sec = 22.31022882461548\n",
      "--Ending epoch 6--\n",
      "--Starting epoch 7--\n",
      "Train time in sec = 66.9312572479248\n",
      "Validation time in sec = 10.57546353340149\n",
      "Test time in sec = 15.119047403335571\n",
      "--Ending epoch 7--\n",
      "--Starting epoch 8--\n",
      "Train time in sec = 71.00317311286926\n",
      "Validation time in sec = 13.305940389633179\n",
      "Test time in sec = 21.02307415008545\n",
      "--Ending epoch 8--\n",
      "--Starting epoch 9--\n",
      "Train time in sec = 61.491159200668335\n",
      "Validation time in sec = 9.157819747924805\n",
      "Test time in sec = 13.88964557647705\n",
      "--Ending epoch 9--\n",
      "--Starting epoch 10--\n",
      "Train time in sec = 55.378323554992676\n",
      "Validation time in sec = 10.146134853363037\n",
      "Test time in sec = 14.454930782318115\n",
      "--Ending epoch 10--\n",
      "--Starting epoch 11--\n",
      "Train time in sec = 86.14330530166626\n",
      "Validation time in sec = 20.48380970954895\n",
      "Test time in sec = 29.47020983695984\n",
      "--Ending epoch 11--\n",
      "--Starting epoch 12--\n",
      "Train time in sec = 101.75355815887451\n",
      "Validation time in sec = 20.417187690734863\n",
      "Test time in sec = 35.50668549537659\n",
      "--Ending epoch 12--\n",
      "--Starting epoch 13--\n",
      "Train time in sec = 89.49685502052307\n",
      "Validation time in sec = 17.980083465576172\n",
      "Test time in sec = 26.31840181350708\n",
      "--Ending epoch 13--\n",
      "--Starting epoch 14--\n",
      "Train time in sec = 71.55610227584839\n",
      "Validation time in sec = 16.02280354499817\n",
      "Test time in sec = 25.008915424346924\n",
      "--Ending epoch 14--\n",
      "--Starting epoch 15--\n",
      "Train time in sec = 89.20101189613342\n",
      "Validation time in sec = 27.249061346054077\n",
      "Test time in sec = 26.662695169448853\n",
      "--Ending epoch 15--\n",
      "--Starting epoch 16--\n",
      "Train time in sec = 104.2298903465271\n",
      "Validation time in sec = 17.86116075515747\n",
      "Test time in sec = 26.25266432762146\n",
      "--Ending epoch 16--\n",
      "--Starting epoch 17--\n",
      "Train time in sec = 103.98159146308899\n",
      "Validation time in sec = 16.55406141281128\n",
      "Test time in sec = 29.353358507156372\n",
      "--Ending epoch 17--\n",
      "--Starting epoch 18--\n",
      "Train time in sec = 100.87256145477295\n",
      "Validation time in sec = 19.370460987091064\n",
      "Test time in sec = 35.16902232170105\n",
      "--Ending epoch 18--\n",
      "--Starting epoch 19--\n",
      "Train time in sec = 100.77578592300415\n",
      "Validation time in sec = 27.218100547790527\n",
      "Test time in sec = 29.463883638381958\n",
      "--Ending epoch 19--\n",
      "--Starting epoch 20--\n",
      "Train time in sec = 96.44773292541504\n",
      "Validation time in sec = 17.0274977684021\n",
      "Test time in sec = 22.445098400115967\n",
      "--Ending epoch 20--\n",
      "--Starting epoch 21--\n",
      "Train time in sec = 87.47814679145813\n",
      "Validation time in sec = 17.213213443756104\n",
      "Test time in sec = 22.337455987930298\n",
      "--Ending epoch 21--\n",
      "--Starting epoch 22--\n",
      "Train time in sec = 84.8651373386383\n",
      "Validation time in sec = 17.030742645263672\n",
      "Test time in sec = 22.36780881881714\n",
      "--Ending epoch 22--\n",
      "--Starting epoch 23--\n",
      "Train time in sec = 69.29256248474121\n",
      "Validation time in sec = 9.059759616851807\n",
      "Test time in sec = 14.000346660614014\n",
      "--Ending epoch 23--\n",
      "--Starting epoch 24--\n",
      "Train time in sec = 57.837536573410034\n",
      "Validation time in sec = 9.805187940597534\n",
      "Test time in sec = 15.467769384384155\n",
      "--Ending epoch 24--\n",
      "--Starting epoch 25--\n",
      "Train time in sec = 54.73952293395996\n",
      "Validation time in sec = 10.80868911743164\n",
      "Test time in sec = 15.89783263206482\n",
      "--Ending epoch 25--\n",
      "--Starting epoch 26--\n",
      "Train time in sec = 58.878637075424194\n",
      "Validation time in sec = 10.699973106384277\n",
      "Test time in sec = 16.680245637893677\n",
      "--Ending epoch 26--\n",
      "--Starting epoch 27--\n",
      "Train time in sec = 58.63061881065369\n",
      "Validation time in sec = 12.038297653198242\n",
      "Test time in sec = 18.006141185760498\n",
      "--Ending epoch 27--\n",
      "--Starting epoch 28--\n",
      "Train time in sec = 55.87435746192932\n",
      "Validation time in sec = 10.234134912490845\n",
      "Test time in sec = 15.602966547012329\n",
      "--Ending epoch 28--\n",
      "--Starting epoch 29--\n",
      "Train time in sec = 56.1246178150177\n",
      "Validation time in sec = 10.565234184265137\n",
      "Test time in sec = 13.961609125137329\n",
      "--Ending epoch 29--\n",
      "--Starting epoch 30--\n",
      "Train time in sec = 55.082701683044434\n",
      "Validation time in sec = 10.044039726257324\n",
      "Test time in sec = 16.142010927200317\n",
      "--Ending epoch 30--\n",
      "--Starting epoch 31--\n",
      "Train time in sec = 57.226481676101685\n",
      "Validation time in sec = 9.56943964958191\n",
      "Test time in sec = 13.59635591506958\n",
      "--Ending epoch 31--\n",
      "--Starting epoch 32--\n",
      "Train time in sec = 54.86863875389099\n",
      "Validation time in sec = 11.186745166778564\n",
      "Test time in sec = 14.896606206893921\n",
      "--Ending epoch 32--\n",
      "--Starting epoch 33--\n",
      "Train time in sec = 57.03131127357483\n",
      "Validation time in sec = 11.803298234939575\n",
      "Test time in sec = 15.826660871505737\n",
      "--Ending epoch 33--\n",
      "--Starting epoch 34--\n",
      "Train time in sec = 56.180745363235474\n",
      "Validation time in sec = 11.261658430099487\n",
      "Test time in sec = 14.743858814239502\n",
      "--Ending epoch 34--\n",
      "--Starting epoch 35--\n",
      "Train time in sec = 54.52398920059204\n",
      "Validation time in sec = 9.891888618469238\n",
      "Test time in sec = 14.715738534927368\n",
      "--Ending epoch 35--\n",
      "--Starting epoch 36--\n",
      "Train time in sec = 52.87329626083374\n",
      "Validation time in sec = 9.860080480575562\n",
      "Test time in sec = 14.616236925125122\n",
      "--Ending epoch 36--\n",
      "--Starting epoch 37--\n",
      "Train time in sec = 54.627219438552856\n",
      "Validation time in sec = 9.932252883911133\n",
      "Test time in sec = 14.75096607208252\n",
      "--Ending epoch 37--\n",
      "--Starting epoch 38--\n",
      "Train time in sec = 52.00742173194885\n",
      "Validation time in sec = 9.660457849502563\n",
      "Test time in sec = 16.9357168674469\n",
      "--Ending epoch 38--\n",
      "--Starting epoch 39--\n",
      "Train time in sec = 75.10036540031433\n",
      "Validation time in sec = 15.742666244506836\n",
      "Test time in sec = 19.76927661895752\n",
      "--Ending epoch 39--\n",
      "--Starting epoch 40--\n",
      "Train time in sec = 80.31708717346191\n",
      "Validation time in sec = 14.214830160140991\n",
      "Test time in sec = 14.417776823043823\n",
      "--Ending epoch 40--\n",
      "--Starting epoch 41--\n",
      "Train time in sec = 54.74702215194702\n",
      "Validation time in sec = 10.897312879562378\n",
      "Test time in sec = 13.978925704956055\n",
      "--Ending epoch 41--\n",
      "--Starting epoch 42--\n",
      "Train time in sec = 52.65947461128235\n",
      "Validation time in sec = 10.179948091506958\n",
      "Test time in sec = 13.6091628074646\n",
      "--Ending epoch 42--\n",
      "--Starting epoch 43--\n",
      "Train time in sec = 51.16450047492981\n",
      "Validation time in sec = 9.557133674621582\n",
      "Test time in sec = 14.212525606155396\n",
      "--Ending epoch 43--\n",
      "--Starting epoch 44--\n",
      "Train time in sec = 63.06644296646118\n",
      "Validation time in sec = 10.080403327941895\n",
      "Test time in sec = 15.447365283966064\n",
      "--Ending epoch 44--\n",
      "--Starting epoch 45--\n",
      "Train time in sec = 54.15067744255066\n",
      "Validation time in sec = 9.99360990524292\n",
      "Test time in sec = 15.26931381225586\n",
      "--Ending epoch 45--\n",
      "--Starting epoch 46--\n",
      "Train time in sec = 60.29356145858765\n",
      "Validation time in sec = 9.911987781524658\n",
      "Test time in sec = 14.83035659790039\n",
      "--Ending epoch 46--\n",
      "--Starting epoch 47--\n",
      "Train time in sec = 59.697717905044556\n",
      "Validation time in sec = 10.77896499633789\n",
      "Test time in sec = 15.306243181228638\n",
      "--Ending epoch 47--\n",
      "--Starting epoch 48--\n",
      "Train time in sec = 56.66874551773071\n",
      "Validation time in sec = 10.594210147857666\n",
      "Test time in sec = 15.283170461654663\n",
      "--Ending epoch 48--\n",
      "--Starting epoch 49--\n",
      "Train time in sec = 56.2110390663147\n",
      "Validation time in sec = 10.378678560256958\n",
      "Test time in sec = 16.073513984680176\n",
      "--Ending epoch 49--\n",
      "--Starting epoch 50--\n",
      "Train time in sec = 58.22728180885315\n",
      "Validation time in sec = 11.152309894561768\n",
      "Test time in sec = 16.63020610809326\n",
      "--Ending epoch 50--\n"
     ]
    },
    {
     "data": {
      "application/vnd.jupyter.widget-view+json": {
       "model_id": "7d26f3d18e914ec19fd5136b9cf55684",
       "version_major": 2,
       "version_minor": 0
      },
      "text/plain": [
       "VBox(children=(Label(value='0.001 MB of 0.001 MB uploaded\\r'), FloatProgress(value=1.0, max=1.0)))"
      ]
     },
     "metadata": {},
     "output_type": "display_data"
    },
    {
     "data": {
      "text/html": [
       "<style>\n",
       "    table.wandb td:nth-child(1) { padding: 0 10px; text-align: left ; width: auto;} td:nth-child(2) {text-align: left ; width: 100%}\n",
       "    .wandb-row { display: flex; flex-direction: row; flex-wrap: wrap; justify-content: flex-start; width: 100% }\n",
       "    .wandb-col { display: flex; flex-direction: column; flex-basis: 100%; flex: 1; padding: 10px; }\n",
       "    </style>\n",
       "<div class=\"wandb-row\"><div class=\"wandb-col\"><h3>Run history:</h3><br/><table class=\"wandb\"><tr><td>accuracy</td><td>█▁▁▁▁▁▁▁████▁▁▁▁▁▁▁▁▁▁▁▁▁▁▁▁▁▁▁▁▁▁▁▁▁▁█▁</td></tr><tr><td>epoch</td><td>▁▁▁▁▂▂▂▂▂▃▃▃▃▃▃▄▄▄▄▄▅▅▅▅▅▅▆▆▆▆▆▇▇▇▇▇▇███</td></tr><tr><td>f1_score</td><td>▂▁▁▁▁▁▁▁▂▂▂▂▁▁▁▁▁▁▁▁▁▁▁▁▁▁▁▁▁▁▁▁▁▁▁▁▁▁█▁</td></tr><tr><td>grad</td><td>  ▁                                     </td></tr><tr><td>loss_train</td><td>▂▂▁███▆▆▆▆▆▅▅▅▅▄▄▄▄▄▄▃▃▃▂▂▂▂▂▂▂▂▂▂▂▂▂▂▁▁</td></tr><tr><td>loss_val</td><td>▂▄▆█▇▇▆▆▆▆▆▆▅▅▅▄▄▄▃▄▃▃▃▃▂▂▂▂▂▂▂▂▂▂▂▂▂▂▁▁</td></tr></table><br/></div><div class=\"wandb-col\"><h3>Run summary:</h3><br/><table class=\"wandb\"><tr><td>accuracy</td><td>0.00455</td></tr><tr><td>epoch</td><td>50</td></tr><tr><td>f1_score</td><td>0.00013</td></tr><tr><td>grad</td><td>inf</td></tr><tr><td>loss_train</td><td>5.324562656765182e+28</td></tr><tr><td>loss_val</td><td>2.885191694778169e+21</td></tr></table><br/></div></div>"
      ],
      "text/plain": [
       "<IPython.core.display.HTML object>"
      ]
     },
     "metadata": {},
     "output_type": "display_data"
    },
    {
     "data": {
      "text/html": [
       " View run <strong style=\"color:#cdcd00\">lstm_M-50</strong> at: <a href='https://wandb.ai/matus13579/NN-z3/runs/uyzsswnl' target=\"_blank\">https://wandb.ai/matus13579/NN-z3/runs/uyzsswnl</a><br/>Synced 5 W&B file(s), 0 media file(s), 0 artifact file(s) and 0 other file(s)"
      ],
      "text/plain": [
       "<IPython.core.display.HTML object>"
      ]
     },
     "metadata": {},
     "output_type": "display_data"
    },
    {
     "data": {
      "text/html": [
       "Find logs at: <code>.\\wandb\\run-20240507_062150-uyzsswnl\\logs</code>"
      ],
      "text/plain": [
       "<IPython.core.display.HTML object>"
      ]
     },
     "metadata": {},
     "output_type": "display_data"
    }
   ],
   "source": [
    "run.execute_training(epoch)\n",
    "run.stop_run()"
   ]
  },
  {
   "cell_type": "markdown",
   "metadata": {},
   "source": [
    "LSTM with ADAM Cell"
   ]
  },
  {
   "cell_type": "code",
   "execution_count": null,
   "metadata": {},
   "outputs": [],
   "source": [
    "run_name = f\"lstm_A-{sequence_len}\"\n",
    "\n",
    "model = RNN(\"lstm_A\", embedding_path, cfg.config_to_dict(cfg.config_NN))\n",
    "run = wanDB_run(run_name, model)\n",
    "run.load_datasets(essay_path, pos_path)"
   ]
  },
  {
   "cell_type": "code",
   "execution_count": null,
   "metadata": {},
   "outputs": [],
   "source": [
    "run.execute_training(epoch)\n",
    "run.stop_run()"
   ]
  },
  {
   "cell_type": "markdown",
   "metadata": {},
   "source": [
    "## Experiment 2 - BIdirectional RNNs"
   ]
  },
  {
   "cell_type": "code",
   "execution_count": null,
   "metadata": {},
   "outputs": [],
   "source": [
    "essay_path = \"C:\\Users\\matul\\Desktop\\NSIETE\\zadanie3\\output\\essays_tensor_representation_max50_1miss.npy\"\n",
    "pos_path = \"C:\\Users\\matul\\Desktop\\NSIETE\\zadanie3\\output\\position_index_pairs_max50_1miss.npy\"\n",
    "#sequence_len = 50\n",
    "epoch = 50\n",
    "\n",
    "cfg.config_NN.bidirectional = True"
   ]
  },
  {
   "cell_type": "markdown",
   "metadata": {},
   "source": [
    "RNN - Bidirectional"
   ]
  },
  {
   "cell_type": "code",
   "execution_count": null,
   "metadata": {},
   "outputs": [],
   "source": [
    "run_name = f\"RNN-BI\"\n",
    "\n",
    "model = RNN(\"simple\", embedding_path, cfg.config_to_dict(cfg.config_NN))\n",
    "run = wanDB_run(run_name, model)\n",
    "run.load_datasets(essay_path, pos_path)"
   ]
  },
  {
   "cell_type": "code",
   "execution_count": null,
   "metadata": {},
   "outputs": [],
   "source": [
    "run.execute_training(epoch)\n",
    "run.stop_run()"
   ]
  },
  {
   "cell_type": "markdown",
   "metadata": {},
   "source": [
    "LSTM - Bidirectional"
   ]
  },
  {
   "cell_type": "code",
   "execution_count": null,
   "metadata": {},
   "outputs": [],
   "source": [
    "run_name = f\"lstm-BI\"\n",
    "\n",
    "model = RNN(\"lstm\", embedding_path, cfg.config_to_dict(cfg.config_NN))\n",
    "run = wanDB_run(run_name, model)\n",
    "run.load_datasets(essay_path, pos_path)"
   ]
  },
  {
   "cell_type": "code",
   "execution_count": null,
   "metadata": {},
   "outputs": [],
   "source": [
    "run.execute_training(epoch)\n",
    "run.stop_run()"
   ]
  },
  {
   "cell_type": "markdown",
   "metadata": {},
   "source": [
    "LSTM with Momentum Cell - Bidirectional"
   ]
  },
  {
   "cell_type": "code",
   "execution_count": null,
   "metadata": {},
   "outputs": [],
   "source": [
    "run_name = f\"lstm_M-BI\"\n",
    "\n",
    "model = RNN(\"lstm_M\", embedding_path, cfg.config_to_dict(cfg.config_NN))\n",
    "run = wanDB_run(run_name, model)\n",
    "run.load_datasets(essay_path, pos_path)"
   ]
  },
  {
   "cell_type": "code",
   "execution_count": null,
   "metadata": {},
   "outputs": [],
   "source": [
    "run.execute_training(epoch)\n",
    "run.stop_run()"
   ]
  },
  {
   "cell_type": "markdown",
   "metadata": {},
   "source": [
    "LSTM with ADAM Cell - Bidirectional"
   ]
  },
  {
   "cell_type": "code",
   "execution_count": null,
   "metadata": {},
   "outputs": [],
   "source": [
    "run_name = f\"lstm_A-BI\"\n",
    "\n",
    "model = RNN(\"lstm_A\", embedding_path, cfg.config_to_dict(cfg.config_NN))\n",
    "run = wanDB_run(run_name, model)\n",
    "run.load_datasets(essay_path, pos_path)"
   ]
  },
  {
   "cell_type": "code",
   "execution_count": null,
   "metadata": {},
   "outputs": [],
   "source": [
    "run.execute_training(epoch)\n",
    "run.stop_run()"
   ]
  },
  {
   "cell_type": "markdown",
   "metadata": {},
   "source": [
    "## Experiment 3 - multiple missing words"
   ]
  },
  {
   "cell_type": "code",
   "execution_count": null,
   "metadata": {},
   "outputs": [],
   "source": [
    "cfg.config_NN.bidirectional = True"
   ]
  },
  {
   "cell_type": "code",
   "execution_count": null,
   "metadata": {},
   "outputs": [],
   "source": [
    "essay_path = \"C:\\Users\\matul\\Desktop\\NSIETE\\zadanie3\\output\\essays_tensor_representation_max50_1miss.npy\"\n",
    "pos_path = \"C:\\Users\\matul\\Desktop\\NSIETE\\zadanie3\\output\\position_index_pairs_max50_1miss.npy\"\n",
    "sequence_len = 50\n",
    "epoch = 50"
   ]
  },
  {
   "cell_type": "code",
   "execution_count": null,
   "metadata": {},
   "outputs": [],
   "source": [
    "essay_path = \"C:\\Users\\matul\\Desktop\\NSIETE\\zadanie3\\output\\essays_tensor_representation_max150_1miss.npy\"\n",
    "pos_path = \"C:\\Users\\matul\\Desktop\\NSIETE\\zadanie3\\output\\position_index_pairs_max150_1miss.npy\"\n",
    "sequence_len = 150\n",
    "epoch = 50"
   ]
  },
  {
   "cell_type": "code",
   "execution_count": null,
   "metadata": {},
   "outputs": [],
   "source": [
    "essay_path = \"C:\\Users\\matul\\Desktop\\NSIETE\\zadanie3\\output\\essays_tensor_representation_max500_1miss.npy\"\n",
    "pos_path = \"C:\\Users\\matul\\Desktop\\NSIETE\\zadanie3\\output\\position_index_pairs_max500_1miss.npy\"\n",
    "sequence_len = 500\n",
    "epoch = 50"
   ]
  },
  {
   "cell_type": "code",
   "execution_count": null,
   "metadata": {},
   "outputs": [],
   "source": [
    "run_name = f\"lstm_M-{sequence_len}_mul\"\n",
    "\n",
    "model = RNN(\"lstm_M\", embedding_path, cfg.config_to_dict(cfg.config_NN))\n",
    "run = wanDB_run(run_name, model)\n",
    "run.load_datasets(essay_path, pos_path)"
   ]
  },
  {
   "cell_type": "code",
   "execution_count": null,
   "metadata": {},
   "outputs": [],
   "source": [
    "run.execute_training(epoch)\n",
    "run.stop_run()"
   ]
  }
 ],
 "metadata": {
  "kernelspec": {
   "display_name": "NN",
   "language": "python",
   "name": "python3"
  },
  "language_info": {
   "codemirror_mode": {
    "name": "ipython",
    "version": 3
   },
   "file_extension": ".py",
   "mimetype": "text/x-python",
   "name": "python",
   "nbconvert_exporter": "python",
   "pygments_lexer": "ipython3",
   "version": "3.12.2"
  }
 },
 "nbformat": 4,
 "nbformat_minor": 2
}
