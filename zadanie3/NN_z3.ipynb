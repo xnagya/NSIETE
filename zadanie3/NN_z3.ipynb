{
 "cells": [
  {
   "cell_type": "code",
   "execution_count": null,
   "metadata": {},
   "outputs": [],
   "source": [
    "import net_config as cfg\n",
    "from models import *\n",
    "from trainer import *\n",
    "from experiment import *"
   ]
  },
  {
   "cell_type": "markdown",
   "metadata": {},
   "source": [
    "# Experiments"
   ]
  },
  {
   "cell_type": "code",
   "execution_count": null,
   "metadata": {},
   "outputs": [],
   "source": [
    "embedding_path = \"embedding_matrix.npy\""
   ]
  },
  {
   "cell_type": "markdown",
   "metadata": {},
   "source": [
    "## Experiment 1 - different sequence lenghts"
   ]
  },
  {
   "cell_type": "code",
   "execution_count": null,
   "metadata": {},
   "outputs": [],
   "source": [
    "essay_path = r\"C:\\Users\\matul\\Desktop\\NSIETE\\zadanie3\\output\\essays_tensor_representation_max50_1miss.npy\"\n",
    "pos_path = r\"C:\\Users\\matul\\Desktop\\NSIETE\\zadanie3\\output\\position_index_pairs_max50_1miss.npy\"\n",
    "sequence_len = 50\n",
    "epoch = 50"
   ]
  },
  {
   "cell_type": "code",
   "execution_count": null,
   "metadata": {},
   "outputs": [],
   "source": [
    "essay_path = r\"C:\\Users\\matul\\Desktop\\NSIETE\\zadanie3\\output\\essays_tensor_representation_max150_1miss.npy\"\n",
    "pos_path = r\"C:\\Users\\matul\\Desktop\\NSIETE\\zadanie3\\output\\position_index_pairs_max150_1miss.npy\"\n",
    "sequence_len = 150\n",
    "epoch = 50"
   ]
  },
  {
   "cell_type": "code",
   "execution_count": null,
   "metadata": {},
   "outputs": [],
   "source": [
    "essay_path = r\"C:\\Users\\matul\\Desktop\\NSIETE\\zadanie3\\output\\essays_tensor_representation_max500_1miss.npy\"\n",
    "pos_path = r\"C:\\Users\\matul\\Desktop\\NSIETE\\zadanie3\\output\\position_index_pairs_max500_1miss.npy\"\n",
    "sequence_len = 500\n",
    "epoch = 50"
   ]
  },
  {
   "cell_type": "markdown",
   "metadata": {},
   "source": [
    "RNN"
   ]
  },
  {
   "cell_type": "code",
   "execution_count": null,
   "metadata": {},
   "outputs": [],
   "source": [
    "run_name = f\"RNN-{sequence_len}\"\n",
    "\n",
    "model = RNN(\"simple\", embedding_path, cfg.config_to_dict(cfg.config_NN))\n",
    "run = wanDB_run(run_name, model)\n",
    "run.load_datasets(essay_path, pos_path)"
   ]
  },
  {
   "cell_type": "code",
   "execution_count": 6,
   "metadata": {},
   "outputs": [
    {
     "name": "stdout",
     "output_type": "stream",
     "text": [
      "--Starting epoch 1--\n",
      "Train time in sec = 13.453529596328735\n",
      "Validation time in sec = 1.7319896221160889\n",
      "Test time in sec = 6.452105760574341\n",
      "--Ending epoch 1--\n",
      "--Starting epoch 2--\n",
      "Train time in sec = 15.110157251358032\n",
      "Validation time in sec = 2.04274582862854\n",
      "Test time in sec = 7.076585292816162\n",
      "--Ending epoch 2--\n",
      "--Starting epoch 3--\n",
      "Train time in sec = 13.158097982406616\n",
      "Validation time in sec = 1.6964304447174072\n",
      "Test time in sec = 6.722991704940796\n",
      "--Ending epoch 3--\n",
      "--Starting epoch 4--\n",
      "Train time in sec = 14.501685380935669\n",
      "Validation time in sec = 2.0976648330688477\n",
      "Test time in sec = 7.416325569152832\n",
      "--Ending epoch 4--\n",
      "--Starting epoch 5--\n",
      "Train time in sec = 13.904659748077393\n",
      "Validation time in sec = 1.927062749862671\n",
      "Test time in sec = 7.197789907455444\n",
      "--Ending epoch 5--\n",
      "--Starting epoch 6--\n",
      "Train time in sec = 13.99249267578125\n",
      "Validation time in sec = 1.916252851486206\n",
      "Test time in sec = 7.111542463302612\n",
      "--Ending epoch 6--\n",
      "--Starting epoch 7--\n",
      "Train time in sec = 13.753981828689575\n",
      "Validation time in sec = 1.846062421798706\n",
      "Test time in sec = 7.133970499038696\n",
      "--Ending epoch 7--\n",
      "--Starting epoch 8--\n",
      "Train time in sec = 13.745728015899658\n",
      "Validation time in sec = 1.935777187347412\n",
      "Test time in sec = 7.09470272064209\n",
      "--Ending epoch 8--\n",
      "--Starting epoch 9--\n",
      "Train time in sec = 13.847389936447144\n",
      "Validation time in sec = 2.1768383979797363\n",
      "Test time in sec = 7.0919554233551025\n",
      "--Ending epoch 9--\n",
      "--Starting epoch 10--\n",
      "Train time in sec = 15.3427152633667\n",
      "Validation time in sec = 2.2553677558898926\n",
      "Test time in sec = 7.202538013458252\n",
      "--Ending epoch 10--\n",
      "--Starting epoch 11--\n",
      "Train time in sec = 16.316803455352783\n",
      "Validation time in sec = 2.221217155456543\n",
      "Test time in sec = 7.970671892166138\n",
      "--Ending epoch 11--\n",
      "--Starting epoch 12--\n",
      "Train time in sec = 17.388082265853882\n",
      "Validation time in sec = 2.266458034515381\n",
      "Test time in sec = 6.863945484161377\n",
      "--Ending epoch 12--\n",
      "--Starting epoch 13--\n",
      "Train time in sec = 16.337016820907593\n",
      "Validation time in sec = 2.2829442024230957\n",
      "Test time in sec = 7.053866624832153\n",
      "--Ending epoch 13--\n",
      "--Starting epoch 14--\n",
      "Train time in sec = 17.500327348709106\n",
      "Validation time in sec = 2.3128457069396973\n",
      "Test time in sec = 7.019813537597656\n",
      "--Ending epoch 14--\n",
      "--Starting epoch 15--\n",
      "Train time in sec = 17.218831062316895\n",
      "Validation time in sec = 2.0221145153045654\n",
      "Test time in sec = 6.2806854248046875\n",
      "--Ending epoch 15--\n",
      "--Starting epoch 16--\n",
      "Train time in sec = 15.99043607711792\n",
      "Validation time in sec = 2.169203996658325\n",
      "Test time in sec = 7.705206394195557\n",
      "--Ending epoch 16--\n",
      "--Starting epoch 17--\n",
      "Train time in sec = 16.340803384780884\n",
      "Validation time in sec = 2.0777299404144287\n",
      "Test time in sec = 7.195527791976929\n",
      "--Ending epoch 17--\n",
      "--Starting epoch 18--\n",
      "Train time in sec = 15.926064014434814\n",
      "Validation time in sec = 2.123140335083008\n",
      "Test time in sec = 6.54857873916626\n",
      "--Ending epoch 18--\n",
      "--Starting epoch 19--\n",
      "Train time in sec = 15.736821174621582\n",
      "Validation time in sec = 2.1944546699523926\n",
      "Test time in sec = 6.536969900131226\n",
      "--Ending epoch 19--\n",
      "--Starting epoch 20--\n",
      "Train time in sec = 15.891595840454102\n",
      "Validation time in sec = 2.1599955558776855\n",
      "Test time in sec = 6.6113440990448\n",
      "--Ending epoch 20--\n",
      "--Starting epoch 21--\n",
      "Train time in sec = 15.720140218734741\n",
      "Validation time in sec = 2.1790475845336914\n",
      "Test time in sec = 6.581741094589233\n",
      "--Ending epoch 21--\n",
      "--Starting epoch 22--\n",
      "Train time in sec = 16.985886812210083\n",
      "Validation time in sec = 2.324772834777832\n",
      "Test time in sec = 7.415473699569702\n",
      "--Ending epoch 22--\n",
      "--Starting epoch 23--\n",
      "Train time in sec = 16.14020085334778\n",
      "Validation time in sec = 2.04030442237854\n",
      "Test time in sec = 7.083631992340088\n",
      "--Ending epoch 23--\n",
      "--Starting epoch 24--\n",
      "Train time in sec = 15.56711721420288\n",
      "Validation time in sec = 2.1994574069976807\n",
      "Test time in sec = 7.307246208190918\n",
      "--Ending epoch 24--\n",
      "--Starting epoch 25--\n",
      "Train time in sec = 16.870511770248413\n",
      "Validation time in sec = 2.446338415145874\n",
      "Test time in sec = 7.426859140396118\n",
      "--Ending epoch 25--\n",
      "--Starting epoch 26--\n",
      "Train time in sec = 17.732422590255737\n",
      "Validation time in sec = 2.0959866046905518\n",
      "Test time in sec = 6.941977262496948\n",
      "--Ending epoch 26--\n",
      "--Starting epoch 27--\n",
      "Train time in sec = 15.416429996490479\n",
      "Validation time in sec = 2.051635265350342\n",
      "Test time in sec = 6.98965048789978\n",
      "--Ending epoch 27--\n",
      "--Starting epoch 28--\n",
      "Train time in sec = 15.890273809432983\n",
      "Validation time in sec = 2.4548327922821045\n",
      "Test time in sec = 8.441163301467896\n",
      "--Ending epoch 28--\n",
      "--Starting epoch 29--\n",
      "Train time in sec = 19.432533025741577\n",
      "Validation time in sec = 2.2020599842071533\n",
      "Test time in sec = 7.441749572753906\n",
      "--Ending epoch 29--\n",
      "--Starting epoch 30--\n",
      "Train time in sec = 17.953335762023926\n",
      "Validation time in sec = 2.37471342086792\n",
      "Test time in sec = 8.518968105316162\n",
      "--Ending epoch 30--\n",
      "--Starting epoch 31--\n",
      "Train time in sec = 18.816664695739746\n",
      "Validation time in sec = 2.403628349304199\n",
      "Test time in sec = 7.512869596481323\n",
      "--Ending epoch 31--\n",
      "--Starting epoch 32--\n",
      "Train time in sec = 17.23192548751831\n",
      "Validation time in sec = 3.2156078815460205\n",
      "Test time in sec = 6.917526960372925\n",
      "--Ending epoch 32--\n",
      "--Starting epoch 33--\n",
      "Train time in sec = 14.848413705825806\n",
      "Validation time in sec = 2.2969746589660645\n",
      "Test time in sec = 7.195578575134277\n",
      "--Ending epoch 33--\n",
      "--Starting epoch 34--\n",
      "Train time in sec = 15.119721174240112\n",
      "Validation time in sec = 2.159858226776123\n",
      "Test time in sec = 7.942317247390747\n",
      "--Ending epoch 34--\n",
      "--Starting epoch 35--\n",
      "Train time in sec = 15.060903549194336\n",
      "Validation time in sec = 2.34859561920166\n",
      "Test time in sec = 7.343329429626465\n",
      "--Ending epoch 35--\n",
      "--Starting epoch 36--\n",
      "Train time in sec = 14.987687587738037\n",
      "Validation time in sec = 1.9462904930114746\n",
      "Test time in sec = 6.321872234344482\n",
      "--Ending epoch 36--\n",
      "--Starting epoch 37--\n",
      "Train time in sec = 17.05744957923889\n",
      "Validation time in sec = 2.5766727924346924\n",
      "Test time in sec = 7.412004232406616\n",
      "--Ending epoch 37--\n",
      "--Starting epoch 38--\n",
      "Train time in sec = 18.86183214187622\n",
      "Validation time in sec = 2.603766679763794\n",
      "Test time in sec = 7.543659210205078\n",
      "--Ending epoch 38--\n",
      "--Starting epoch 39--\n",
      "Train time in sec = 19.34819769859314\n",
      "Validation time in sec = 2.661048412322998\n",
      "Test time in sec = 7.623891115188599\n",
      "--Ending epoch 39--\n",
      "--Starting epoch 40--\n",
      "Train time in sec = 19.905452013015747\n",
      "Validation time in sec = 2.954695224761963\n",
      "Test time in sec = 8.270357608795166\n",
      "--Ending epoch 40--\n",
      "--Starting epoch 41--\n",
      "Train time in sec = 22.996131658554077\n",
      "Validation time in sec = 3.724590301513672\n",
      "Test time in sec = 9.561718702316284\n",
      "--Ending epoch 41--\n",
      "--Starting epoch 42--\n",
      "Train time in sec = 21.424519777297974\n",
      "Validation time in sec = 1.8748085498809814\n",
      "Test time in sec = 7.131017208099365\n",
      "--Ending epoch 42--\n",
      "--Starting epoch 43--\n",
      "Train time in sec = 16.39047932624817\n",
      "Validation time in sec = 2.468250274658203\n",
      "Test time in sec = 8.43428897857666\n",
      "--Ending epoch 43--\n",
      "--Starting epoch 44--\n",
      "Train time in sec = 15.89694094657898\n",
      "Validation time in sec = 2.0295541286468506\n",
      "Test time in sec = 7.090281963348389\n",
      "--Ending epoch 44--\n",
      "--Starting epoch 45--\n",
      "Train time in sec = 15.008931636810303\n",
      "Validation time in sec = 1.9750077724456787\n",
      "Test time in sec = 6.990447282791138\n",
      "--Ending epoch 45--\n",
      "--Starting epoch 46--\n",
      "Train time in sec = 14.907791137695312\n",
      "Validation time in sec = 1.997680425643921\n",
      "Test time in sec = 7.156691789627075\n",
      "--Ending epoch 46--\n",
      "--Starting epoch 47--\n",
      "Train time in sec = 16.2107355594635\n",
      "Validation time in sec = 2.4363908767700195\n",
      "Test time in sec = 7.210043668746948\n",
      "--Ending epoch 47--\n",
      "--Starting epoch 48--\n",
      "Train time in sec = 16.90192174911499\n",
      "Validation time in sec = 2.5297350883483887\n",
      "Test time in sec = 7.131266832351685\n",
      "--Ending epoch 48--\n",
      "--Starting epoch 49--\n",
      "Train time in sec = 17.296836137771606\n",
      "Validation time in sec = 2.516392230987549\n",
      "Test time in sec = 6.945885419845581\n",
      "--Ending epoch 49--\n",
      "--Starting epoch 50--\n",
      "Train time in sec = 17.31862235069275\n",
      "Validation time in sec = 2.4559884071350098\n",
      "Test time in sec = 7.443027019500732\n",
      "--Ending epoch 50--\n"
     ]
    },
    {
     "data": {
      "application/vnd.jupyter.widget-view+json": {
       "model_id": "7dc881f8a7b44160a56c9f09f25bb51b",
       "version_major": 2,
       "version_minor": 0
      },
      "text/plain": [
       "VBox(children=(Label(value='0.001 MB of 0.001 MB uploaded\\r'), FloatProgress(value=1.0, max=1.0)))"
      ]
     },
     "metadata": {},
     "output_type": "display_data"
    },
    {
     "data": {
      "text/html": [
       "<style>\n",
       "    table.wandb td:nth-child(1) { padding: 0 10px; text-align: left ; width: auto;} td:nth-child(2) {text-align: left ; width: 100%}\n",
       "    .wandb-row { display: flex; flex-direction: row; flex-wrap: wrap; justify-content: flex-start; width: 100% }\n",
       "    .wandb-col { display: flex; flex-direction: column; flex-basis: 100%; flex: 1; padding: 10px; }\n",
       "    </style>\n",
       "<div class=\"wandb-row\"><div class=\"wandb-col\"><h3>Run history:</h3><br/><table class=\"wandb\"><tr><td>accuracy</td><td>▅█▆▄▅▃▁▆▂▃▂▂▃█▇▆▆▆▅▆▂▄▆▃▄▅▇▇▄▂▃▇█▇▅▇▂▆▄▁</td></tr><tr><td>epoch</td><td>▁▁▁▁▂▂▂▂▂▃▃▃▃▃▃▄▄▄▄▄▅▅▅▅▅▅▆▆▆▆▆▇▇▇▇▇▇███</td></tr><tr><td>f1_score</td><td>▆█▆▆▆▃▂▅▂▄▂▂▄▇▇▇▅▅▆▇▂▃▅▂▅▃▆▆▂▂▃▇▇▇▆▇▃▅▁▁</td></tr><tr><td>grad</td><td>█▄▅▄▃▃▃▃▃▃▂▃▂▃▁▃▃▂▂▃▂▃▁▂▃▂▂▃▂▃▃▃▂▂▁▂▁▂▂▃</td></tr><tr><td>loss_train</td><td>█▅▄▃▂▂▂▂▂▂▁▁▁▁▁▁▁▁▁▁▁▁▁▁▁▁▁▁▁▁▁▁▁▁▁▁▁▁▁▁</td></tr><tr><td>loss_val</td><td>▁▂▃▅▅▅▅▆▆▇▆▆▆▅▅▇▅▆▇▅▆▅▆▅▇▇▆▆▇▇▇▆▇▇▇▇▇▇█▇</td></tr></table><br/></div><div class=\"wandb-col\"><h3>Run summary:</h3><br/><table class=\"wandb\"><tr><td>accuracy</td><td>0.00661</td></tr><tr><td>epoch</td><td>50</td></tr><tr><td>f1_score</td><td>0.00216</td></tr><tr><td>grad</td><td>220.00504</td></tr><tr><td>loss_train</td><td>1465.21985</td></tr><tr><td>loss_val</td><td>4.3669734217427993e+30</td></tr></table><br/></div></div>"
      ],
      "text/plain": [
       "<IPython.core.display.HTML object>"
      ]
     },
     "metadata": {},
     "output_type": "display_data"
    },
    {
     "data": {
      "text/html": [
       " View run <strong style=\"color:#cdcd00\">RNN-50</strong> at: <a href='https://wandb.ai/matus13579/NN-z3/runs/9js3ubcl' target=\"_blank\">https://wandb.ai/matus13579/NN-z3/runs/9js3ubcl</a><br/>Synced 5 W&B file(s), 0 media file(s), 0 artifact file(s) and 0 other file(s)"
      ],
      "text/plain": [
       "<IPython.core.display.HTML object>"
      ]
     },
     "metadata": {},
     "output_type": "display_data"
    },
    {
     "data": {
      "text/html": [
       "Find logs at: <code>.\\wandb\\run-20240506_201422-9js3ubcl\\logs</code>"
      ],
      "text/plain": [
       "<IPython.core.display.HTML object>"
      ]
     },
     "metadata": {},
     "output_type": "display_data"
    }
   ],
   "source": [
    "run.execute_training(epoch)\n",
    "run.stop_run()"
   ]
  },
  {
   "cell_type": "markdown",
   "metadata": {},
   "source": [
    "LSTM"
   ]
  },
  {
   "cell_type": "code",
   "execution_count": 7,
   "metadata": {},
   "outputs": [
    {
     "data": {
      "text/html": [
       "wandb version 0.16.6 is available!  To upgrade, please run:\n",
       " $ pip install wandb --upgrade"
      ],
      "text/plain": [
       "<IPython.core.display.HTML object>"
      ]
     },
     "metadata": {},
     "output_type": "display_data"
    },
    {
     "data": {
      "text/html": [
       "Tracking run with wandb version 0.16.4"
      ],
      "text/plain": [
       "<IPython.core.display.HTML object>"
      ]
     },
     "metadata": {},
     "output_type": "display_data"
    },
    {
     "data": {
      "text/html": [
       "Run data is saved locally in <code>c:\\Users\\matul\\Desktop\\NSIETE\\zadanie3\\wandb\\run-20240506_203652-a717sdxv</code>"
      ],
      "text/plain": [
       "<IPython.core.display.HTML object>"
      ]
     },
     "metadata": {},
     "output_type": "display_data"
    },
    {
     "data": {
      "text/html": [
       "Syncing run <strong><a href='https://wandb.ai/matus13579/NN-z3/runs/a717sdxv' target=\"_blank\">lstm-50</a></strong> to <a href='https://wandb.ai/matus13579/NN-z3' target=\"_blank\">Weights & Biases</a> (<a href='https://wandb.me/run' target=\"_blank\">docs</a>)<br/>"
      ],
      "text/plain": [
       "<IPython.core.display.HTML object>"
      ]
     },
     "metadata": {},
     "output_type": "display_data"
    },
    {
     "data": {
      "text/html": [
       " View project at <a href='https://wandb.ai/matus13579/NN-z3' target=\"_blank\">https://wandb.ai/matus13579/NN-z3</a>"
      ],
      "text/plain": [
       "<IPython.core.display.HTML object>"
      ]
     },
     "metadata": {},
     "output_type": "display_data"
    },
    {
     "data": {
      "text/html": [
       " View run at <a href='https://wandb.ai/matus13579/NN-z3/runs/a717sdxv' target=\"_blank\">https://wandb.ai/matus13579/NN-z3/runs/a717sdxv</a>"
      ],
      "text/plain": [
       "<IPython.core.display.HTML object>"
      ]
     },
     "metadata": {},
     "output_type": "display_data"
    },
    {
     "name": "stdout",
     "output_type": "stream",
     "text": [
      "Using cpu device for training\n"
     ]
    }
   ],
   "source": [
    "run_name = f\"lstm-{sequence_len}\"\n",
    "\n",
    "model = RNN(\"lstm\", embedding_path, cfg.config_to_dict(cfg.config_NN))\n",
    "run = wanDB_run(run_name, model)\n",
    "run.load_datasets(essay_path, pos_path)"
   ]
  },
  {
   "cell_type": "code",
   "execution_count": 8,
   "metadata": {},
   "outputs": [
    {
     "name": "stdout",
     "output_type": "stream",
     "text": [
      "--Starting epoch 1--\n",
      "Train time in sec = 68.31000137329102\n",
      "Validation time in sec = 13.104550838470459\n",
      "Test time in sec = 18.775819301605225\n",
      "--Ending epoch 1--\n",
      "--Starting epoch 2--\n",
      "Train time in sec = 68.94097542762756\n",
      "Validation time in sec = 12.943997383117676\n",
      "Test time in sec = 18.640416145324707\n",
      "--Ending epoch 2--\n",
      "--Starting epoch 3--\n",
      "Train time in sec = 68.22465014457703\n",
      "Validation time in sec = 10.629162549972534\n",
      "Test time in sec = 15.910475254058838\n",
      "--Ending epoch 3--\n",
      "--Starting epoch 4--\n",
      "Train time in sec = 55.4544358253479\n",
      "Validation time in sec = 10.305324792861938\n",
      "Test time in sec = 15.833177089691162\n",
      "--Ending epoch 4--\n",
      "--Starting epoch 5--\n",
      "Train time in sec = 58.52618336677551\n",
      "Validation time in sec = 10.719319105148315\n",
      "Test time in sec = 16.149819374084473\n",
      "--Ending epoch 5--\n",
      "--Starting epoch 6--\n",
      "Train time in sec = 55.49868965148926\n",
      "Validation time in sec = 10.406198024749756\n",
      "Test time in sec = 15.659503698348999\n",
      "--Ending epoch 6--\n",
      "--Starting epoch 7--\n",
      "Train time in sec = 55.399776458740234\n",
      "Validation time in sec = 11.04883885383606\n",
      "Test time in sec = 19.116188526153564\n",
      "--Ending epoch 7--\n",
      "--Starting epoch 8--\n",
      "Train time in sec = 56.38589024543762\n",
      "Validation time in sec = 10.533650398254395\n",
      "Test time in sec = 15.562016010284424\n",
      "--Ending epoch 8--\n",
      "--Starting epoch 9--\n",
      "Train time in sec = 55.110814809799194\n",
      "Validation time in sec = 11.132670164108276\n",
      "Test time in sec = 16.329757690429688\n",
      "--Ending epoch 9--\n",
      "--Starting epoch 10--\n",
      "Train time in sec = 68.28485083580017\n",
      "Validation time in sec = 13.032006740570068\n",
      "Test time in sec = 18.38515877723694\n",
      "--Ending epoch 10--\n",
      "--Starting epoch 11--\n",
      "Train time in sec = 73.9766845703125\n",
      "Validation time in sec = 15.630919694900513\n",
      "Test time in sec = 19.42255473136902\n",
      "--Ending epoch 11--\n",
      "--Starting epoch 12--\n",
      "Train time in sec = 67.55580496788025\n",
      "Validation time in sec = 10.84284520149231\n",
      "Test time in sec = 17.121940851211548\n",
      "--Ending epoch 12--\n",
      "--Starting epoch 13--\n",
      "Train time in sec = 62.849040508270264\n",
      "Validation time in sec = 12.789251804351807\n",
      "Test time in sec = 17.825197219848633\n",
      "--Ending epoch 13--\n",
      "--Starting epoch 14--\n",
      "Train time in sec = 65.17957401275635\n",
      "Validation time in sec = 9.898281812667847\n",
      "Test time in sec = 15.359663724899292\n",
      "--Ending epoch 14--\n",
      "--Starting epoch 15--\n",
      "Train time in sec = 55.24908924102783\n",
      "Validation time in sec = 9.65438985824585\n",
      "Test time in sec = 16.13883328437805\n",
      "--Ending epoch 15--\n",
      "--Starting epoch 16--\n",
      "Train time in sec = 51.02416205406189\n",
      "Validation time in sec = 9.859633684158325\n",
      "Test time in sec = 15.674891710281372\n",
      "--Ending epoch 16--\n",
      "--Starting epoch 17--\n",
      "Train time in sec = 49.26053833961487\n",
      "Validation time in sec = 10.405495405197144\n",
      "Test time in sec = 14.157058238983154\n",
      "--Ending epoch 17--\n",
      "--Starting epoch 18--\n",
      "Train time in sec = 52.81543588638306\n",
      "Validation time in sec = 9.424970865249634\n",
      "Test time in sec = 14.200029373168945\n",
      "--Ending epoch 18--\n",
      "--Starting epoch 19--\n",
      "Train time in sec = 50.734925508499146\n",
      "Validation time in sec = 9.31763505935669\n",
      "Test time in sec = 15.42591142654419\n",
      "--Ending epoch 19--\n",
      "--Starting epoch 20--\n",
      "Train time in sec = 52.853832721710205\n",
      "Validation time in sec = 10.854080200195312\n",
      "Test time in sec = 15.33800745010376\n",
      "--Ending epoch 20--\n",
      "--Starting epoch 21--\n",
      "Train time in sec = 50.32485342025757\n",
      "Validation time in sec = 9.637567043304443\n",
      "Test time in sec = 15.351596117019653\n",
      "--Ending epoch 21--\n",
      "--Starting epoch 22--\n",
      "Train time in sec = 57.28968906402588\n",
      "Validation time in sec = 10.962460994720459\n",
      "Test time in sec = 16.95665693283081\n",
      "--Ending epoch 22--\n",
      "--Starting epoch 23--\n",
      "Train time in sec = 67.56658339500427\n",
      "Validation time in sec = 11.864815711975098\n",
      "Test time in sec = 16.875935316085815\n",
      "--Ending epoch 23--\n",
      "--Starting epoch 24--\n",
      "Train time in sec = 61.97107744216919\n",
      "Validation time in sec = 11.419018268585205\n",
      "Test time in sec = 16.77097749710083\n",
      "--Ending epoch 24--\n",
      "--Starting epoch 25--\n",
      "Train time in sec = 57.57176375389099\n",
      "Validation time in sec = 10.038689374923706\n",
      "Test time in sec = 14.40338945388794\n",
      "--Ending epoch 25--\n",
      "--Starting epoch 26--\n",
      "Train time in sec = 50.28115439414978\n",
      "Validation time in sec = 9.091229677200317\n",
      "Test time in sec = 13.396021842956543\n",
      "--Ending epoch 26--\n",
      "--Starting epoch 27--\n",
      "Train time in sec = 50.514878273010254\n",
      "Validation time in sec = 10.710419178009033\n",
      "Test time in sec = 17.067566394805908\n",
      "--Ending epoch 27--\n",
      "--Starting epoch 28--\n",
      "Train time in sec = 66.83056402206421\n",
      "Validation time in sec = 12.632676124572754\n",
      "Test time in sec = 16.55445694923401\n",
      "--Ending epoch 28--\n",
      "--Starting epoch 29--\n",
      "Train time in sec = 53.88879895210266\n",
      "Validation time in sec = 11.031320333480835\n",
      "Test time in sec = 16.21834707260132\n",
      "--Ending epoch 29--\n",
      "--Starting epoch 30--\n",
      "Train time in sec = 49.23518657684326\n",
      "Validation time in sec = 9.676459312438965\n",
      "Test time in sec = 13.675431966781616\n",
      "--Ending epoch 30--\n",
      "--Starting epoch 31--\n",
      "Train time in sec = 48.850059032440186\n",
      "Validation time in sec = 9.587781190872192\n",
      "Test time in sec = 14.149430751800537\n",
      "--Ending epoch 31--\n",
      "--Starting epoch 32--\n",
      "Train time in sec = 58.319836378097534\n",
      "Validation time in sec = 11.833041191101074\n",
      "Test time in sec = 16.455917835235596\n",
      "--Ending epoch 32--\n",
      "--Starting epoch 33--\n",
      "Train time in sec = 74.65045046806335\n",
      "Validation time in sec = 16.61794686317444\n",
      "Test time in sec = 21.574177503585815\n",
      "--Ending epoch 33--\n",
      "--Starting epoch 34--\n",
      "Train time in sec = 74.9640064239502\n",
      "Validation time in sec = 13.498577356338501\n",
      "Test time in sec = 19.213309288024902\n",
      "--Ending epoch 34--\n",
      "--Starting epoch 35--\n",
      "Train time in sec = 74.59094142913818\n",
      "Validation time in sec = 9.09763216972351\n",
      "Test time in sec = 14.977382898330688\n",
      "--Ending epoch 35--\n",
      "--Starting epoch 36--\n",
      "Train time in sec = 52.64362335205078\n",
      "Validation time in sec = 10.417771816253662\n",
      "Test time in sec = 12.743772029876709\n",
      "--Ending epoch 36--\n",
      "--Starting epoch 37--\n",
      "Train time in sec = 48.440555572509766\n",
      "Validation time in sec = 9.01466989517212\n",
      "Test time in sec = 13.944044351577759\n",
      "--Ending epoch 37--\n",
      "--Starting epoch 38--\n",
      "Train time in sec = 51.50916862487793\n",
      "Validation time in sec = 9.347646474838257\n",
      "Test time in sec = 13.698776483535767\n",
      "--Ending epoch 38--\n",
      "--Starting epoch 39--\n",
      "Train time in sec = 53.7542622089386\n",
      "Validation time in sec = 8.721822261810303\n",
      "Test time in sec = 13.548971176147461\n",
      "--Ending epoch 39--\n",
      "--Starting epoch 40--\n",
      "Train time in sec = 51.012728214263916\n",
      "Validation time in sec = 9.349288940429688\n",
      "Test time in sec = 13.313273906707764\n",
      "--Ending epoch 40--\n",
      "--Starting epoch 41--\n",
      "Train time in sec = 49.409159421920776\n",
      "Validation time in sec = 12.018996477127075\n",
      "Test time in sec = 15.92680287361145\n",
      "--Ending epoch 41--\n",
      "--Starting epoch 42--\n",
      "Train time in sec = 57.07566285133362\n",
      "Validation time in sec = 9.961032152175903\n",
      "Test time in sec = 14.40414571762085\n",
      "--Ending epoch 42--\n",
      "--Starting epoch 43--\n",
      "Train time in sec = 54.22185659408569\n",
      "Validation time in sec = 10.407456398010254\n",
      "Test time in sec = 14.654268741607666\n",
      "--Ending epoch 43--\n",
      "--Starting epoch 44--\n",
      "Train time in sec = 52.983776569366455\n",
      "Validation time in sec = 9.396261215209961\n",
      "Test time in sec = 14.432405233383179\n",
      "--Ending epoch 44--\n",
      "--Starting epoch 45--\n",
      "Train time in sec = 56.123780488967896\n",
      "Validation time in sec = 12.556503772735596\n",
      "Test time in sec = 16.50215983390808\n",
      "--Ending epoch 45--\n",
      "--Starting epoch 46--\n",
      "Train time in sec = 62.00881338119507\n",
      "Validation time in sec = 13.464524269104004\n",
      "Test time in sec = 19.9358868598938\n",
      "--Ending epoch 46--\n",
      "--Starting epoch 47--\n",
      "Train time in sec = 69.63808631896973\n",
      "Validation time in sec = 12.920744895935059\n",
      "Test time in sec = 17.192712783813477\n",
      "--Ending epoch 47--\n",
      "--Starting epoch 48--\n",
      "Train time in sec = 63.67395853996277\n",
      "Validation time in sec = 12.60871934890747\n",
      "Test time in sec = 17.96020770072937\n",
      "--Ending epoch 48--\n",
      "--Starting epoch 49--\n",
      "Train time in sec = 64.34338521957397\n",
      "Validation time in sec = 13.779837608337402\n",
      "Test time in sec = 18.736785888671875\n",
      "--Ending epoch 49--\n",
      "--Starting epoch 50--\n",
      "Train time in sec = 58.97646236419678\n",
      "Validation time in sec = 9.565753936767578\n",
      "Test time in sec = 14.352108478546143\n",
      "--Ending epoch 50--\n"
     ]
    },
    {
     "data": {
      "application/vnd.jupyter.widget-view+json": {
       "model_id": "c963c22d88a9440886a177267c38118a",
       "version_major": 2,
       "version_minor": 0
      },
      "text/plain": [
       "VBox(children=(Label(value='0.001 MB of 0.001 MB uploaded\\r'), FloatProgress(value=1.0, max=1.0)))"
      ]
     },
     "metadata": {},
     "output_type": "display_data"
    },
    {
     "data": {
      "text/html": [
       "<style>\n",
       "    table.wandb td:nth-child(1) { padding: 0 10px; text-align: left ; width: auto;} td:nth-child(2) {text-align: left ; width: 100%}\n",
       "    .wandb-row { display: flex; flex-direction: row; flex-wrap: wrap; justify-content: flex-start; width: 100% }\n",
       "    .wandb-col { display: flex; flex-direction: column; flex-basis: 100%; flex: 1; padding: 10px; }\n",
       "    </style>\n",
       "<div class=\"wandb-row\"><div class=\"wandb-col\"><h3>Run history:</h3><br/><table class=\"wandb\"><tr><td>accuracy</td><td>▄▄▄█▄██▄▄▄▄▄▄▄▄▄▄▄▄▄▄▄▄▄▄▄▄▄▄▄█▄█▄███▁▄▃</td></tr><tr><td>epoch</td><td>▁▁▁▁▂▂▂▂▂▃▃▃▃▃▃▄▄▄▄▄▅▅▅▅▅▅▆▆▆▆▆▇▇▇▇▇▇███</td></tr><tr><td>f1_score</td><td>▃▃▃█▃██▃▃▃▃▃▃▃▃▃▃▃▃▃▃▃▃▃▃▃▃▃▃▃█▃█▃███▁▄▂</td></tr><tr><td>grad</td><td>█▃▂▂▁▁▂▁▁▁▁▁▂▁▁▁▁▁▁▁▁▁▁▁▁▁▁▁▁▁▁▁▁▁▁▁▁▁▁▁</td></tr><tr><td>loss_train</td><td>█▃▂▂▁▁▁▁▁▁▁▁▁▁▁▁▁▁▁▁▁▁▁▁▁▁▁▁▁▁▁▁▁▁▁▁▁▁▁▁</td></tr><tr><td>loss_val</td><td>▅▆█▃▇▇█▄▇▆▆▄▄▇▅▇▂▅▃▂▃▄▃▁▄▅▄▆▃▄▄▄▂▅▃▃▅▄▇▂</td></tr></table><br/></div><div class=\"wandb-col\"><h3>Run summary:</h3><br/><table class=\"wandb\"><tr><td>accuracy</td><td>0.00429</td></tr><tr><td>epoch</td><td>50</td></tr><tr><td>f1_score</td><td>9e-05</td></tr><tr><td>grad</td><td>16.65725</td></tr><tr><td>loss_train</td><td>1790.03394</td></tr><tr><td>loss_val</td><td>5.164988226469238e+28</td></tr></table><br/></div></div>"
      ],
      "text/plain": [
       "<IPython.core.display.HTML object>"
      ]
     },
     "metadata": {},
     "output_type": "display_data"
    },
    {
     "data": {
      "text/html": [
       " View run <strong style=\"color:#cdcd00\">lstm-50</strong> at: <a href='https://wandb.ai/matus13579/NN-z3/runs/a717sdxv' target=\"_blank\">https://wandb.ai/matus13579/NN-z3/runs/a717sdxv</a><br/>Synced 5 W&B file(s), 0 media file(s), 0 artifact file(s) and 0 other file(s)"
      ],
      "text/plain": [
       "<IPython.core.display.HTML object>"
      ]
     },
     "metadata": {},
     "output_type": "display_data"
    },
    {
     "data": {
      "text/html": [
       "Find logs at: <code>.\\wandb\\run-20240506_203652-a717sdxv\\logs</code>"
      ],
      "text/plain": [
       "<IPython.core.display.HTML object>"
      ]
     },
     "metadata": {},
     "output_type": "display_data"
    }
   ],
   "source": [
    "run.execute_training(epoch)\n",
    "run.stop_run()"
   ]
  },
  {
   "cell_type": "markdown",
   "metadata": {},
   "source": [
    "LSTM with Momentum Cell"
   ]
  },
  {
   "cell_type": "code",
   "execution_count": 9,
   "metadata": {},
   "outputs": [
    {
     "data": {
      "text/html": [
       "wandb version 0.16.6 is available!  To upgrade, please run:\n",
       " $ pip install wandb --upgrade"
      ],
      "text/plain": [
       "<IPython.core.display.HTML object>"
      ]
     },
     "metadata": {},
     "output_type": "display_data"
    },
    {
     "data": {
      "text/html": [
       "Tracking run with wandb version 0.16.4"
      ],
      "text/plain": [
       "<IPython.core.display.HTML object>"
      ]
     },
     "metadata": {},
     "output_type": "display_data"
    },
    {
     "data": {
      "text/html": [
       "Run data is saved locally in <code>c:\\Users\\matul\\Desktop\\NSIETE\\zadanie3\\wandb\\run-20240506_214856-qfj6hvdd</code>"
      ],
      "text/plain": [
       "<IPython.core.display.HTML object>"
      ]
     },
     "metadata": {},
     "output_type": "display_data"
    },
    {
     "data": {
      "text/html": [
       "Syncing run <strong><a href='https://wandb.ai/matus13579/NN-z3/runs/qfj6hvdd' target=\"_blank\">lstm_M-50</a></strong> to <a href='https://wandb.ai/matus13579/NN-z3' target=\"_blank\">Weights & Biases</a> (<a href='https://wandb.me/run' target=\"_blank\">docs</a>)<br/>"
      ],
      "text/plain": [
       "<IPython.core.display.HTML object>"
      ]
     },
     "metadata": {},
     "output_type": "display_data"
    },
    {
     "data": {
      "text/html": [
       " View project at <a href='https://wandb.ai/matus13579/NN-z3' target=\"_blank\">https://wandb.ai/matus13579/NN-z3</a>"
      ],
      "text/plain": [
       "<IPython.core.display.HTML object>"
      ]
     },
     "metadata": {},
     "output_type": "display_data"
    },
    {
     "data": {
      "text/html": [
       " View run at <a href='https://wandb.ai/matus13579/NN-z3/runs/qfj6hvdd' target=\"_blank\">https://wandb.ai/matus13579/NN-z3/runs/qfj6hvdd</a>"
      ],
      "text/plain": [
       "<IPython.core.display.HTML object>"
      ]
     },
     "metadata": {},
     "output_type": "display_data"
    },
    {
     "name": "stdout",
     "output_type": "stream",
     "text": [
      "Using cpu device for training\n"
     ]
    }
   ],
   "source": [
    "run_name = f\"lstm_M-{sequence_len}\"\n",
    "\n",
    "model = RNN(\"lstm_M\", embedding_path, cfg.config_to_dict(cfg.config_NN))\n",
    "run = wanDB_run(run_name, model)\n",
    "run.load_datasets(essay_path, pos_path)"
   ]
  },
  {
   "cell_type": "code",
   "execution_count": 10,
   "metadata": {},
   "outputs": [
    {
     "name": "stdout",
     "output_type": "stream",
     "text": [
      "--Starting epoch 1--\n",
      "Train time in sec = 56.74774098396301\n",
      "Validation time in sec = 10.571552753448486\n",
      "Test time in sec = 14.358383417129517\n",
      "--Ending epoch 1--\n",
      "--Starting epoch 2--\n",
      "Train time in sec = 55.96272587776184\n",
      "Validation time in sec = 10.864263534545898\n",
      "Test time in sec = 13.7831392288208\n",
      "--Ending epoch 2--\n",
      "--Starting epoch 3--\n",
      "Train time in sec = 54.48077464103699\n",
      "Validation time in sec = 9.95445728302002\n",
      "Test time in sec = 14.259572982788086\n",
      "--Ending epoch 3--\n",
      "--Starting epoch 4--\n",
      "Train time in sec = 55.70108485221863\n",
      "Validation time in sec = 9.826637983322144\n",
      "Test time in sec = 13.948376178741455\n",
      "--Ending epoch 4--\n",
      "--Starting epoch 5--\n",
      "Train time in sec = 54.75042271614075\n",
      "Validation time in sec = 10.509360551834106\n",
      "Test time in sec = 15.126047134399414\n",
      "--Ending epoch 5--\n",
      "--Starting epoch 6--\n",
      "Train time in sec = 56.1152868270874\n",
      "Validation time in sec = 10.173726320266724\n",
      "Test time in sec = 15.02420687675476\n",
      "--Ending epoch 6--\n",
      "--Starting epoch 7--\n",
      "Train time in sec = 53.53699350357056\n",
      "Validation time in sec = 9.674232721328735\n",
      "Test time in sec = 14.636200189590454\n",
      "--Ending epoch 7--\n",
      "--Starting epoch 8--\n",
      "Train time in sec = 58.46282601356506\n",
      "Validation time in sec = 10.836276531219482\n",
      "Test time in sec = 14.578324556350708\n",
      "--Ending epoch 8--\n",
      "--Starting epoch 9--\n",
      "Train time in sec = 51.92421841621399\n",
      "Validation time in sec = 9.771863222122192\n",
      "Test time in sec = 13.873698234558105\n",
      "--Ending epoch 9--\n",
      "--Starting epoch 10--\n",
      "Train time in sec = 53.342950105667114\n",
      "Validation time in sec = 9.803937435150146\n",
      "Test time in sec = 13.518269300460815\n",
      "--Ending epoch 10--\n",
      "--Starting epoch 11--\n",
      "Train time in sec = 63.41137933731079\n",
      "Validation time in sec = 11.930530309677124\n",
      "Test time in sec = 16.471309423446655\n",
      "--Ending epoch 11--\n",
      "--Starting epoch 12--\n",
      "Train time in sec = 69.1005380153656\n",
      "Validation time in sec = 12.876941919326782\n",
      "Test time in sec = 15.300929069519043\n",
      "--Ending epoch 12--\n",
      "--Starting epoch 13--\n",
      "Train time in sec = 63.1678740978241\n",
      "Validation time in sec = 11.774466037750244\n",
      "Test time in sec = 15.609946727752686\n",
      "--Ending epoch 13--\n",
      "--Starting epoch 14--\n",
      "Train time in sec = 71.63500785827637\n",
      "Validation time in sec = 14.614813804626465\n",
      "Test time in sec = 17.074000120162964\n",
      "--Ending epoch 14--\n",
      "--Starting epoch 15--\n",
      "Train time in sec = 68.60563778877258\n",
      "Validation time in sec = 12.587759017944336\n",
      "Test time in sec = 18.49788761138916\n",
      "--Ending epoch 15--\n",
      "--Starting epoch 16--\n",
      "Train time in sec = 56.70258450508118\n",
      "Validation time in sec = 10.389510869979858\n",
      "Test time in sec = 16.13162398338318\n",
      "--Ending epoch 16--\n",
      "--Starting epoch 17--\n",
      "Train time in sec = 59.18763756752014\n",
      "Validation time in sec = 10.474940538406372\n",
      "Test time in sec = 15.97275424003601\n",
      "--Ending epoch 17--\n",
      "--Starting epoch 18--\n",
      "Train time in sec = 61.3060302734375\n",
      "Validation time in sec = 13.274559497833252\n",
      "Test time in sec = 16.86951994895935\n",
      "--Ending epoch 18--\n",
      "--Starting epoch 19--\n",
      "Train time in sec = 63.20987343788147\n",
      "Validation time in sec = 12.190098285675049\n",
      "Test time in sec = 17.718871593475342\n",
      "--Ending epoch 19--\n",
      "--Starting epoch 20--\n",
      "Train time in sec = 61.249324321746826\n",
      "Validation time in sec = 11.924610614776611\n",
      "Test time in sec = 14.554087162017822\n",
      "--Ending epoch 20--\n",
      "--Starting epoch 21--\n",
      "Train time in sec = 53.77300548553467\n",
      "Validation time in sec = 9.418532609939575\n",
      "Test time in sec = 15.898292303085327\n",
      "--Ending epoch 21--\n",
      "--Starting epoch 22--\n",
      "Train time in sec = 64.55373907089233\n",
      "Validation time in sec = 12.077290773391724\n",
      "Test time in sec = 15.637821435928345\n",
      "--Ending epoch 22--\n",
      "--Starting epoch 23--\n",
      "Train time in sec = 66.61248588562012\n",
      "Validation time in sec = 12.522019624710083\n",
      "Test time in sec = 17.329827785491943\n",
      "--Ending epoch 23--\n",
      "--Starting epoch 24--\n",
      "Train time in sec = 67.35300636291504\n",
      "Validation time in sec = 11.706885576248169\n",
      "Test time in sec = 14.073572635650635\n",
      "--Ending epoch 24--\n",
      "--Starting epoch 25--\n",
      "Train time in sec = 55.78792667388916\n",
      "Validation time in sec = 10.087466716766357\n",
      "Test time in sec = 13.902381896972656\n",
      "--Ending epoch 25--\n",
      "--Starting epoch 26--\n",
      "Train time in sec = 52.95202565193176\n",
      "Validation time in sec = 9.535766839981079\n",
      "Test time in sec = 13.435462474822998\n",
      "--Ending epoch 26--\n",
      "--Starting epoch 27--\n",
      "Train time in sec = 51.31028342247009\n",
      "Validation time in sec = 9.0631844997406\n",
      "Test time in sec = 14.693036794662476\n",
      "--Ending epoch 27--\n",
      "--Starting epoch 28--\n",
      "Train time in sec = 55.23133850097656\n",
      "Validation time in sec = 12.242661476135254\n",
      "Test time in sec = 19.230833530426025\n",
      "--Ending epoch 28--\n",
      "--Starting epoch 29--\n",
      "Train time in sec = 75.26629304885864\n",
      "Validation time in sec = 14.181745290756226\n",
      "Test time in sec = 15.81825566291809\n",
      "--Ending epoch 29--\n",
      "--Starting epoch 30--\n",
      "Train time in sec = 57.90887951850891\n",
      "Validation time in sec = 11.421868085861206\n",
      "Test time in sec = 15.78394627571106\n",
      "--Ending epoch 30--\n",
      "--Starting epoch 31--\n",
      "Train time in sec = 56.77202749252319\n",
      "Validation time in sec = 9.562671422958374\n",
      "Test time in sec = 15.334529876708984\n",
      "--Ending epoch 31--\n",
      "--Starting epoch 32--\n",
      "Train time in sec = 57.10608410835266\n",
      "Validation time in sec = 10.063980102539062\n",
      "Test time in sec = 14.673224449157715\n",
      "--Ending epoch 32--\n",
      "--Starting epoch 33--\n",
      "Train time in sec = 56.94281840324402\n",
      "Validation time in sec = 12.853368997573853\n",
      "Test time in sec = 16.677541971206665\n",
      "--Ending epoch 33--\n",
      "--Starting epoch 34--\n",
      "Train time in sec = 76.49970722198486\n",
      "Validation time in sec = 15.08781385421753\n",
      "Test time in sec = 17.736345291137695\n",
      "--Ending epoch 34--\n",
      "--Starting epoch 35--\n",
      "Train time in sec = 56.22568202018738\n",
      "Validation time in sec = 10.100933313369751\n",
      "Test time in sec = 15.079610586166382\n",
      "--Ending epoch 35--\n",
      "--Starting epoch 36--\n",
      "Train time in sec = 51.94350576400757\n",
      "Validation time in sec = 9.629889011383057\n",
      "Test time in sec = 14.136828660964966\n",
      "--Ending epoch 36--\n",
      "--Starting epoch 37--\n",
      "Train time in sec = 54.11643123626709\n",
      "Validation time in sec = 11.964102745056152\n",
      "Test time in sec = 18.481016159057617\n",
      "--Ending epoch 37--\n",
      "--Starting epoch 38--\n",
      "Train time in sec = 61.9528443813324\n",
      "Validation time in sec = 9.308671236038208\n",
      "Test time in sec = 14.071953058242798\n",
      "--Ending epoch 38--\n",
      "--Starting epoch 39--\n",
      "Train time in sec = 52.12436604499817\n",
      "Validation time in sec = 10.601507425308228\n",
      "Test time in sec = 15.686170816421509\n",
      "--Ending epoch 39--\n",
      "--Starting epoch 40--\n",
      "Train time in sec = 57.0729284286499\n",
      "Validation time in sec = 10.218477249145508\n",
      "Test time in sec = 14.944765567779541\n",
      "--Ending epoch 40--\n",
      "--Starting epoch 41--\n",
      "Train time in sec = 52.75171899795532\n",
      "Validation time in sec = 9.998978614807129\n",
      "Test time in sec = 14.734092712402344\n",
      "--Ending epoch 41--\n",
      "--Starting epoch 42--\n",
      "Train time in sec = 54.18103814125061\n",
      "Validation time in sec = 10.227527141571045\n",
      "Test time in sec = 15.491904497146606\n",
      "--Ending epoch 42--\n",
      "--Starting epoch 43--\n",
      "Train time in sec = 60.89161777496338\n",
      "Validation time in sec = 11.76047968864441\n",
      "Test time in sec = 14.923956632614136\n",
      "--Ending epoch 43--\n",
      "--Starting epoch 44--\n",
      "Train time in sec = 54.18727493286133\n",
      "Validation time in sec = 10.352047204971313\n",
      "Test time in sec = 15.324675798416138\n",
      "--Ending epoch 44--\n",
      "--Starting epoch 45--\n",
      "Train time in sec = 60.93880367279053\n",
      "Validation time in sec = 13.52341914176941\n",
      "Test time in sec = 16.37396240234375\n",
      "--Ending epoch 45--\n",
      "--Starting epoch 46--\n",
      "Train time in sec = 72.57722163200378\n",
      "Validation time in sec = 13.152410745620728\n",
      "Test time in sec = 16.209733247756958\n",
      "--Ending epoch 46--\n",
      "--Starting epoch 47--\n",
      "Train time in sec = 68.23516726493835\n",
      "Validation time in sec = 13.263830661773682\n",
      "Test time in sec = 16.73483657836914\n",
      "--Ending epoch 47--\n",
      "--Starting epoch 48--\n",
      "Train time in sec = 65.71677303314209\n",
      "Validation time in sec = 12.831883907318115\n",
      "Test time in sec = 18.56324005126953\n",
      "--Ending epoch 48--\n",
      "--Starting epoch 49--\n",
      "Train time in sec = 57.33603620529175\n",
      "Validation time in sec = 10.595926284790039\n",
      "Test time in sec = 14.644479274749756\n",
      "--Ending epoch 49--\n",
      "--Starting epoch 50--\n",
      "Train time in sec = 57.99709129333496\n",
      "Validation time in sec = 11.098114967346191\n",
      "Test time in sec = 15.18082857131958\n",
      "--Ending epoch 50--\n"
     ]
    },
    {
     "data": {
      "application/vnd.jupyter.widget-view+json": {
       "model_id": "845a67d3189241e3a019b715fcef8139",
       "version_major": 2,
       "version_minor": 0
      },
      "text/plain": [
       "VBox(children=(Label(value='0.001 MB of 0.001 MB uploaded\\r'), FloatProgress(value=1.0, max=1.0)))"
      ]
     },
     "metadata": {},
     "output_type": "display_data"
    },
    {
     "data": {
      "text/html": [
       "<style>\n",
       "    table.wandb td:nth-child(1) { padding: 0 10px; text-align: left ; width: auto;} td:nth-child(2) {text-align: left ; width: 100%}\n",
       "    .wandb-row { display: flex; flex-direction: row; flex-wrap: wrap; justify-content: flex-start; width: 100% }\n",
       "    .wandb-col { display: flex; flex-direction: column; flex-basis: 100%; flex: 1; padding: 10px; }\n",
       "    </style>\n",
       "<div class=\"wandb-row\"><div class=\"wandb-col\"><h3>Run history:</h3><br/><table class=\"wandb\"><tr><td>accuracy</td><td>▂▁▁▂▂▁▃▁▂▃▂▁▃██▄▂▁▂▁▄▅▄▄▃▄▂▅▄▆▁▆▂▁▂▂▂▆██</td></tr><tr><td>epoch</td><td>▁▁▁▁▂▂▂▂▂▃▃▃▃▃▃▄▄▄▄▄▅▅▅▅▅▅▆▆▆▆▆▇▇▇▇▇▇███</td></tr><tr><td>f1_score</td><td>▁▁▁▁▁▁▂▁▁▁▁▁▂▆▆▂▁▁▁▁▂▂▂▂▂▃▁▂▂▃▁▃▁▁▁▁▁▃██</td></tr><tr><td>grad</td><td>█▂▂▁▁▁▁▁▁▁▁▁▁▁▁▁▁▁▁▁▁▁▁▁▁▁▁▁▁▁▁▁▁▁▁▁▁▁▁▁</td></tr><tr><td>loss_train</td><td>█▅▃▂▁▁▁▁▁▁▁▁▁▁▁▁▁▁▁▁▁▁▁▁▁▁▁▁▁▁▁▁▁▁▁▁▁▁▁▁</td></tr><tr><td>loss_val</td><td>▂██▃▆▅▇▆▇▄▅▄█▁▄▇▆▄▄▄▂▄▃▄▄▆▆▅▄▁▄▃▃▃▅▄▅▂▄▇</td></tr></table><br/></div><div class=\"wandb-col\"><h3>Run summary:</h3><br/><table class=\"wandb\"><tr><td>accuracy</td><td>0.00456</td></tr><tr><td>epoch</td><td>50</td></tr><tr><td>f1_score</td><td>0.00013</td></tr><tr><td>grad</td><td>19.0443</td></tr><tr><td>loss_train</td><td>1800.49902</td></tr><tr><td>loss_val</td><td>9.495218841334353e+28</td></tr></table><br/></div></div>"
      ],
      "text/plain": [
       "<IPython.core.display.HTML object>"
      ]
     },
     "metadata": {},
     "output_type": "display_data"
    },
    {
     "data": {
      "text/html": [
       " View run <strong style=\"color:#cdcd00\">lstm_M-50</strong> at: <a href='https://wandb.ai/matus13579/NN-z3/runs/qfj6hvdd' target=\"_blank\">https://wandb.ai/matus13579/NN-z3/runs/qfj6hvdd</a><br/>Synced 5 W&B file(s), 0 media file(s), 0 artifact file(s) and 0 other file(s)"
      ],
      "text/plain": [
       "<IPython.core.display.HTML object>"
      ]
     },
     "metadata": {},
     "output_type": "display_data"
    },
    {
     "data": {
      "text/html": [
       "Find logs at: <code>.\\wandb\\run-20240506_214856-qfj6hvdd\\logs</code>"
      ],
      "text/plain": [
       "<IPython.core.display.HTML object>"
      ]
     },
     "metadata": {},
     "output_type": "display_data"
    }
   ],
   "source": [
    "run.execute_training(epoch)\n",
    "run.stop_run()"
   ]
  },
  {
   "cell_type": "markdown",
   "metadata": {},
   "source": [
    "LSTM with ADAM Cell"
   ]
  },
  {
   "cell_type": "code",
   "execution_count": 11,
   "metadata": {},
   "outputs": [
    {
     "data": {
      "text/html": [
       "wandb version 0.16.6 is available!  To upgrade, please run:\n",
       " $ pip install wandb --upgrade"
      ],
      "text/plain": [
       "<IPython.core.display.HTML object>"
      ]
     },
     "metadata": {},
     "output_type": "display_data"
    },
    {
     "data": {
      "text/html": [
       "Tracking run with wandb version 0.16.4"
      ],
      "text/plain": [
       "<IPython.core.display.HTML object>"
      ]
     },
     "metadata": {},
     "output_type": "display_data"
    },
    {
     "data": {
      "text/html": [
       "Run data is saved locally in <code>c:\\Users\\matul\\Desktop\\NSIETE\\zadanie3\\wandb\\run-20240506_230135-i31a467d</code>"
      ],
      "text/plain": [
       "<IPython.core.display.HTML object>"
      ]
     },
     "metadata": {},
     "output_type": "display_data"
    },
    {
     "data": {
      "text/html": [
       "Syncing run <strong><a href='https://wandb.ai/matus13579/NN-z3/runs/i31a467d' target=\"_blank\">lstm_A-50</a></strong> to <a href='https://wandb.ai/matus13579/NN-z3' target=\"_blank\">Weights & Biases</a> (<a href='https://wandb.me/run' target=\"_blank\">docs</a>)<br/>"
      ],
      "text/plain": [
       "<IPython.core.display.HTML object>"
      ]
     },
     "metadata": {},
     "output_type": "display_data"
    },
    {
     "data": {
      "text/html": [
       " View project at <a href='https://wandb.ai/matus13579/NN-z3' target=\"_blank\">https://wandb.ai/matus13579/NN-z3</a>"
      ],
      "text/plain": [
       "<IPython.core.display.HTML object>"
      ]
     },
     "metadata": {},
     "output_type": "display_data"
    },
    {
     "data": {
      "text/html": [
       " View run at <a href='https://wandb.ai/matus13579/NN-z3/runs/i31a467d' target=\"_blank\">https://wandb.ai/matus13579/NN-z3/runs/i31a467d</a>"
      ],
      "text/plain": [
       "<IPython.core.display.HTML object>"
      ]
     },
     "metadata": {},
     "output_type": "display_data"
    },
    {
     "name": "stdout",
     "output_type": "stream",
     "text": [
      "Using cpu device for training\n"
     ]
    }
   ],
   "source": [
    "run_name = f\"lstm_A-{sequence_len}\"\n",
    "\n",
    "model = RNN(\"lstm_A\", embedding_path, cfg.config_to_dict(cfg.config_NN))\n",
    "run = wanDB_run(run_name, model)\n",
    "run.load_datasets(essay_path, pos_path)"
   ]
  },
  {
   "cell_type": "code",
   "execution_count": 12,
   "metadata": {},
   "outputs": [
    {
     "name": "stdout",
     "output_type": "stream",
     "text": [
      "--Starting epoch 1--\n",
      "Train time in sec = 76.49307131767273\n",
      "Validation time in sec = 14.083684206008911\n",
      "Test time in sec = 23.48183512687683\n",
      "--Ending epoch 1--\n",
      "--Starting epoch 2--\n",
      "Train time in sec = 83.31549143791199\n",
      "Validation time in sec = 15.18919062614441\n",
      "Test time in sec = 21.923847198486328\n",
      "--Ending epoch 2--\n",
      "--Starting epoch 3--\n",
      "Train time in sec = 76.06086540222168\n",
      "Validation time in sec = 16.99510884284973\n",
      "Test time in sec = 20.014477491378784\n",
      "--Ending epoch 3--\n",
      "--Starting epoch 4--\n",
      "Train time in sec = 85.19389224052429\n",
      "Validation time in sec = 14.419579029083252\n",
      "Test time in sec = 19.00854802131653\n",
      "--Ending epoch 4--\n",
      "--Starting epoch 5--\n",
      "Train time in sec = 85.01004147529602\n",
      "Validation time in sec = 15.499570608139038\n",
      "Test time in sec = 21.703184366226196\n",
      "--Ending epoch 5--\n",
      "--Starting epoch 6--\n",
      "Train time in sec = 78.75556707382202\n",
      "Validation time in sec = 13.510474443435669\n",
      "Test time in sec = 20.009835958480835\n",
      "--Ending epoch 6--\n",
      "--Starting epoch 7--\n",
      "Train time in sec = 86.70415592193604\n",
      "Validation time in sec = 13.611713886260986\n",
      "Test time in sec = 18.87080979347229\n",
      "--Ending epoch 7--\n",
      "--Starting epoch 8--\n",
      "Train time in sec = 75.28466892242432\n",
      "Validation time in sec = 15.43434762954712\n",
      "Test time in sec = 21.293420553207397\n",
      "--Ending epoch 8--\n",
      "--Starting epoch 9--\n",
      "Train time in sec = 81.00869464874268\n",
      "Validation time in sec = 12.095645189285278\n",
      "Test time in sec = 16.940003395080566\n",
      "--Ending epoch 9--\n",
      "--Starting epoch 10--\n",
      "Train time in sec = 74.84076380729675\n",
      "Validation time in sec = 12.923207759857178\n",
      "Test time in sec = 16.351415395736694\n",
      "--Ending epoch 10--\n",
      "--Starting epoch 11--\n",
      "Train time in sec = 71.43806338310242\n",
      "Validation time in sec = 13.78980278968811\n",
      "Test time in sec = 20.61388373374939\n",
      "--Ending epoch 11--\n",
      "--Starting epoch 12--\n",
      "Train time in sec = 78.6879677772522\n",
      "Validation time in sec = 14.932189226150513\n",
      "Test time in sec = 19.91126298904419\n",
      "--Ending epoch 12--\n",
      "--Starting epoch 13--\n",
      "Train time in sec = 79.4858648777008\n",
      "Validation time in sec = 15.688801765441895\n",
      "Test time in sec = 18.17174482345581\n",
      "--Ending epoch 13--\n",
      "--Starting epoch 14--\n",
      "Train time in sec = 77.56679892539978\n",
      "Validation time in sec = 13.208532094955444\n",
      "Test time in sec = 16.68241262435913\n",
      "--Ending epoch 14--\n",
      "--Starting epoch 15--\n",
      "Train time in sec = 66.40917754173279\n",
      "Validation time in sec = 10.700482845306396\n",
      "Test time in sec = 14.705389976501465\n",
      "--Ending epoch 15--\n",
      "--Starting epoch 16--\n",
      "Train time in sec = 71.19042634963989\n",
      "Validation time in sec = 13.34114146232605\n",
      "Test time in sec = 18.28293752670288\n",
      "--Ending epoch 16--\n",
      "--Starting epoch 17--\n",
      "Train time in sec = 81.38813185691833\n",
      "Validation time in sec = 16.412586212158203\n",
      "Test time in sec = 20.03876519203186\n",
      "--Ending epoch 17--\n",
      "--Starting epoch 18--\n",
      "Train time in sec = 82.999027967453\n",
      "Validation time in sec = 13.703309535980225\n",
      "Test time in sec = 18.430683612823486\n",
      "--Ending epoch 18--\n",
      "--Starting epoch 19--\n",
      "Train time in sec = 74.978759765625\n",
      "Validation time in sec = 14.85269570350647\n",
      "Test time in sec = 18.543467044830322\n",
      "--Ending epoch 19--\n",
      "--Starting epoch 20--\n",
      "Train time in sec = 75.29591202735901\n",
      "Validation time in sec = 13.054824113845825\n",
      "Test time in sec = 18.003565311431885\n",
      "--Ending epoch 20--\n",
      "--Starting epoch 21--\n",
      "Train time in sec = 74.48171329498291\n",
      "Validation time in sec = 14.362611532211304\n",
      "Test time in sec = 16.15788197517395\n",
      "--Ending epoch 21--\n",
      "--Starting epoch 22--\n",
      "Train time in sec = 62.435616970062256\n",
      "Validation time in sec = 11.652522563934326\n",
      "Test time in sec = 18.857086896896362\n",
      "--Ending epoch 22--\n",
      "--Starting epoch 23--\n",
      "Train time in sec = 73.80004620552063\n",
      "Validation time in sec = 14.058199644088745\n",
      "Test time in sec = 19.211402893066406\n",
      "--Ending epoch 23--\n",
      "--Starting epoch 24--\n",
      "Train time in sec = 73.588458776474\n",
      "Validation time in sec = 14.205012321472168\n",
      "Test time in sec = 20.029805421829224\n",
      "--Ending epoch 24--\n",
      "--Starting epoch 25--\n",
      "Train time in sec = 80.91585111618042\n",
      "Validation time in sec = 13.521385192871094\n",
      "Test time in sec = 18.848923206329346\n",
      "--Ending epoch 25--\n",
      "--Starting epoch 26--\n",
      "Train time in sec = 75.15202188491821\n",
      "Validation time in sec = 15.35258936882019\n",
      "Test time in sec = 21.024009704589844\n",
      "--Ending epoch 26--\n",
      "--Starting epoch 27--\n",
      "Train time in sec = 71.60386681556702\n",
      "Validation time in sec = 13.701386213302612\n",
      "Test time in sec = 19.61008310317993\n",
      "--Ending epoch 27--\n",
      "--Starting epoch 28--\n",
      "Train time in sec = 70.42413258552551\n",
      "Validation time in sec = 13.277437448501587\n",
      "Test time in sec = 18.586261749267578\n",
      "--Ending epoch 28--\n",
      "--Starting epoch 29--\n",
      "Train time in sec = 76.84551763534546\n",
      "Validation time in sec = 13.925646305084229\n",
      "Test time in sec = 17.24839186668396\n",
      "--Ending epoch 29--\n",
      "--Starting epoch 30--\n",
      "Train time in sec = 72.8391056060791\n",
      "Validation time in sec = 15.351670503616333\n",
      "Test time in sec = 20.375510692596436\n",
      "--Ending epoch 30--\n",
      "--Starting epoch 31--\n",
      "Train time in sec = 81.5040237903595\n",
      "Validation time in sec = 13.431357145309448\n",
      "Test time in sec = 18.22391653060913\n",
      "--Ending epoch 31--\n",
      "--Starting epoch 32--\n",
      "Train time in sec = 78.37133717536926\n",
      "Validation time in sec = 16.023155450820923\n",
      "Test time in sec = 17.8593966960907\n",
      "--Ending epoch 32--\n",
      "--Starting epoch 33--\n",
      "Train time in sec = 80.56000351905823\n",
      "Validation time in sec = 14.465012550354004\n",
      "Test time in sec = 18.229941844940186\n",
      "--Ending epoch 33--\n",
      "--Starting epoch 34--\n",
      "Train time in sec = 74.40113592147827\n",
      "Validation time in sec = 16.126347541809082\n",
      "Test time in sec = 20.696082592010498\n",
      "--Ending epoch 34--\n",
      "--Starting epoch 35--\n",
      "Train time in sec = 85.25459051132202\n",
      "Validation time in sec = 15.158375263214111\n",
      "Test time in sec = 20.044349193572998\n",
      "--Ending epoch 35--\n",
      "--Starting epoch 36--\n",
      "Train time in sec = 83.67898058891296\n",
      "Validation time in sec = 14.88406753540039\n",
      "Test time in sec = 20.207347869873047\n",
      "--Ending epoch 36--\n",
      "--Starting epoch 37--\n",
      "Train time in sec = 80.36580467224121\n",
      "Validation time in sec = 15.609649896621704\n",
      "Test time in sec = 31.71007227897644\n",
      "--Ending epoch 37--\n",
      "--Starting epoch 38--\n",
      "Train time in sec = 75.74780106544495\n",
      "Validation time in sec = 11.27500319480896\n",
      "Test time in sec = 16.05033540725708\n",
      "--Ending epoch 38--\n",
      "--Starting epoch 39--\n",
      "Train time in sec = 61.36623764038086\n",
      "Validation time in sec = 10.95081114768982\n",
      "Test time in sec = 15.039669036865234\n",
      "--Ending epoch 39--\n",
      "--Starting epoch 40--\n",
      "Train time in sec = 68.03699564933777\n",
      "Validation time in sec = 11.87712287902832\n",
      "Test time in sec = 15.82026743888855\n",
      "--Ending epoch 40--\n",
      "--Starting epoch 41--\n",
      "Train time in sec = 70.63423371315002\n",
      "Validation time in sec = 17.097222805023193\n",
      "Test time in sec = 20.57299542427063\n",
      "--Ending epoch 41--\n",
      "--Starting epoch 42--\n",
      "Train time in sec = 86.17452311515808\n",
      "Validation time in sec = 16.043790340423584\n",
      "Test time in sec = 21.203376054763794\n",
      "--Ending epoch 42--\n",
      "--Starting epoch 43--\n",
      "Train time in sec = 81.299476146698\n",
      "Validation time in sec = 13.165358304977417\n",
      "Test time in sec = 17.654178857803345\n",
      "--Ending epoch 43--\n",
      "--Starting epoch 44--\n",
      "Train time in sec = 80.28300881385803\n",
      "Validation time in sec = 15.010509252548218\n",
      "Test time in sec = 18.175615549087524\n",
      "--Ending epoch 44--\n",
      "--Starting epoch 45--\n",
      "Train time in sec = 66.52328109741211\n",
      "Validation time in sec = 12.442964792251587\n",
      "Test time in sec = 17.188698291778564\n",
      "--Ending epoch 45--\n",
      "--Starting epoch 46--\n",
      "Train time in sec = 66.48175191879272\n",
      "Validation time in sec = 13.03111481666565\n",
      "Test time in sec = 18.00973153114319\n",
      "--Ending epoch 46--\n",
      "--Starting epoch 47--\n",
      "Train time in sec = 71.28325891494751\n",
      "Validation time in sec = 15.640265226364136\n",
      "Test time in sec = 19.65876340866089\n",
      "--Ending epoch 47--\n",
      "--Starting epoch 48--\n",
      "Train time in sec = 75.82393765449524\n",
      "Validation time in sec = 14.816374063491821\n",
      "Test time in sec = 18.643865823745728\n",
      "--Ending epoch 48--\n",
      "--Starting epoch 49--\n",
      "Train time in sec = 65.24551153182983\n",
      "Validation time in sec = 11.114506721496582\n",
      "Test time in sec = 15.423022747039795\n",
      "--Ending epoch 49--\n",
      "--Starting epoch 50--\n",
      "Train time in sec = 63.05248999595642\n",
      "Validation time in sec = 11.41663146018982\n",
      "Test time in sec = 16.01633644104004\n",
      "--Ending epoch 50--\n"
     ]
    },
    {
     "data": {
      "application/vnd.jupyter.widget-view+json": {
       "model_id": "1f32de391a24453a8ac5c25fc4fd0261",
       "version_major": 2,
       "version_minor": 0
      },
      "text/plain": [
       "VBox(children=(Label(value='0.001 MB of 0.001 MB uploaded\\r'), FloatProgress(value=1.0, max=1.0)))"
      ]
     },
     "metadata": {},
     "output_type": "display_data"
    },
    {
     "data": {
      "text/html": [
       "<style>\n",
       "    table.wandb td:nth-child(1) { padding: 0 10px; text-align: left ; width: auto;} td:nth-child(2) {text-align: left ; width: 100%}\n",
       "    .wandb-row { display: flex; flex-direction: row; flex-wrap: wrap; justify-content: flex-start; width: 100% }\n",
       "    .wandb-col { display: flex; flex-direction: column; flex-basis: 100%; flex: 1; padding: 10px; }\n",
       "    </style>\n",
       "<div class=\"wandb-row\"><div class=\"wandb-col\"><h3>Run history:</h3><br/><table class=\"wandb\"><tr><td>accuracy</td><td>█▇█▁▂▂▁▁▁▂▁▁▁▁▁▁▃▄▁▁▂▁▁▃▁▁▁▆▁▁▁▂▁▄▂▁▃▆▁▄</td></tr><tr><td>epoch</td><td>▁▁▁▁▂▂▂▂▂▃▃▃▃▃▃▄▄▄▄▄▅▅▅▅▅▅▆▆▆▆▆▇▇▇▇▇▇███</td></tr><tr><td>f1_score</td><td>▄▃█▁▁▁▁▁▁▁▁▁▁▁▁▁▂▂▁▁▁▁▁▃▁▁▁▂▁▁▁▁▁▂▁▁▁▃▁▇</td></tr><tr><td>grad</td><td>█▂▂▂▁▁█▁██▂▂█▇▁▁██▁███▂█▂▅▁▂▁█▁██▁▂▁████</td></tr><tr><td>loss_train</td><td>▄█▅▃▂▁▃▁▃▃▂▁▂▂▁▁▂▃▁▂▂▂▁▂▁▂▁▁▁▂▁▃▂▁▁▁▂▂▂▂</td></tr><tr><td>loss_val</td><td>▅▄▂▁▂▂▅▂▆▄█▅▇▆▇▄▅▅▇▇▆▅▃▆▅▆▅▆▄▄▃▂▄▅▆▄▄▆█▅</td></tr></table><br/></div><div class=\"wandb-col\"><h3>Run summary:</h3><br/><table class=\"wandb\"><tr><td>accuracy</td><td>0.00182</td></tr><tr><td>epoch</td><td>50</td></tr><tr><td>f1_score</td><td>0.00018</td></tr><tr><td>grad</td><td>40.24286</td></tr><tr><td>loss_train</td><td>1847.2522</td></tr><tr><td>loss_val</td><td>5.403332107488767e+29</td></tr></table><br/></div></div>"
      ],
      "text/plain": [
       "<IPython.core.display.HTML object>"
      ]
     },
     "metadata": {},
     "output_type": "display_data"
    },
    {
     "data": {
      "text/html": [
       " View run <strong style=\"color:#cdcd00\">lstm_A-50</strong> at: <a href='https://wandb.ai/matus13579/NN-z3/runs/i31a467d' target=\"_blank\">https://wandb.ai/matus13579/NN-z3/runs/i31a467d</a><br/>Synced 5 W&B file(s), 0 media file(s), 0 artifact file(s) and 0 other file(s)"
      ],
      "text/plain": [
       "<IPython.core.display.HTML object>"
      ]
     },
     "metadata": {},
     "output_type": "display_data"
    },
    {
     "data": {
      "text/html": [
       "Find logs at: <code>.\\wandb\\run-20240506_230135-i31a467d\\logs</code>"
      ],
      "text/plain": [
       "<IPython.core.display.HTML object>"
      ]
     },
     "metadata": {},
     "output_type": "display_data"
    }
   ],
   "source": [
    "run.execute_training(epoch)\n",
    "run.stop_run()"
   ]
  },
  {
   "cell_type": "markdown",
   "metadata": {},
   "source": [
    "## Experiment 2 - BIdirectional RNNs"
   ]
  },
  {
   "cell_type": "code",
   "execution_count": null,
   "metadata": {},
   "outputs": [],
   "source": [
    "essay_path = \"C:\\Users\\matul\\Desktop\\NSIETE\\zadanie3\\output\\essays_tensor_representation_max50_1miss.npy\"\n",
    "pos_path = \"C:\\Users\\matul\\Desktop\\NSIETE\\zadanie3\\output\\position_index_pairs_max50_1miss.npy\"\n",
    "#sequence_len = 50\n",
    "epoch = 50\n",
    "\n",
    "cfg.config_NN.bidirectional = True"
   ]
  },
  {
   "cell_type": "markdown",
   "metadata": {},
   "source": [
    "RNN - Bidirectional"
   ]
  },
  {
   "cell_type": "code",
   "execution_count": null,
   "metadata": {},
   "outputs": [],
   "source": [
    "run_name = f\"RNN-BI\"\n",
    "\n",
    "model = RNN(\"simple\", embedding_path, cfg.config_to_dict(cfg.config_NN))\n",
    "run = wanDB_run(run_name, model)\n",
    "run.load_datasets(essay_path, pos_path)"
   ]
  },
  {
   "cell_type": "code",
   "execution_count": null,
   "metadata": {},
   "outputs": [],
   "source": [
    "run.execute_training(epoch)\n",
    "run.stop_run()"
   ]
  },
  {
   "cell_type": "markdown",
   "metadata": {},
   "source": [
    "LSTM - Bidirectional"
   ]
  },
  {
   "cell_type": "code",
   "execution_count": null,
   "metadata": {},
   "outputs": [],
   "source": [
    "run_name = f\"lstm-BI\"\n",
    "\n",
    "model = RNN(\"lstm\", embedding_path, cfg.config_to_dict(cfg.config_NN))\n",
    "run = wanDB_run(run_name, model)\n",
    "run.load_datasets(essay_path, pos_path)"
   ]
  },
  {
   "cell_type": "code",
   "execution_count": null,
   "metadata": {},
   "outputs": [],
   "source": [
    "run.execute_training(epoch)\n",
    "run.stop_run()"
   ]
  },
  {
   "cell_type": "markdown",
   "metadata": {},
   "source": [
    "LSTM with Momentum Cell - Bidirectional"
   ]
  },
  {
   "cell_type": "code",
   "execution_count": null,
   "metadata": {},
   "outputs": [],
   "source": [
    "run_name = f\"lstm_M-BI\"\n",
    "\n",
    "model = RNN(\"lstm_M\", embedding_path, cfg.config_to_dict(cfg.config_NN))\n",
    "run = wanDB_run(run_name, model)\n",
    "run.load_datasets(essay_path, pos_path)"
   ]
  },
  {
   "cell_type": "code",
   "execution_count": null,
   "metadata": {},
   "outputs": [],
   "source": [
    "run.execute_training(epoch)\n",
    "run.stop_run()"
   ]
  },
  {
   "cell_type": "markdown",
   "metadata": {},
   "source": [
    "LSTM with ADAM Cell - Bidirectional"
   ]
  },
  {
   "cell_type": "code",
   "execution_count": null,
   "metadata": {},
   "outputs": [],
   "source": [
    "run_name = f\"lstm_A-BI\"\n",
    "\n",
    "model = RNN(\"lstm_A\", embedding_path, cfg.config_to_dict(cfg.config_NN))\n",
    "run = wanDB_run(run_name, model)\n",
    "run.load_datasets(essay_path, pos_path)"
   ]
  },
  {
   "cell_type": "code",
   "execution_count": null,
   "metadata": {},
   "outputs": [],
   "source": [
    "run.execute_training(epoch)\n",
    "run.stop_run()"
   ]
  },
  {
   "cell_type": "markdown",
   "metadata": {},
   "source": [
    "## Experiment 3 - multiple missing words"
   ]
  },
  {
   "cell_type": "code",
   "execution_count": null,
   "metadata": {},
   "outputs": [],
   "source": [
    "cfg.config_NN.bidirectional = True"
   ]
  },
  {
   "cell_type": "code",
   "execution_count": null,
   "metadata": {},
   "outputs": [],
   "source": [
    "essay_path = \"C:\\Users\\matul\\Desktop\\NSIETE\\zadanie3\\output\\essays_tensor_representation_max50_1miss.npy\"\n",
    "pos_path = \"C:\\Users\\matul\\Desktop\\NSIETE\\zadanie3\\output\\position_index_pairs_max50_1miss.npy\"\n",
    "sequence_len = 50\n",
    "epoch = 50"
   ]
  },
  {
   "cell_type": "code",
   "execution_count": null,
   "metadata": {},
   "outputs": [],
   "source": [
    "essay_path = \"C:\\Users\\matul\\Desktop\\NSIETE\\zadanie3\\output\\essays_tensor_representation_max150_1miss.npy\"\n",
    "pos_path = \"C:\\Users\\matul\\Desktop\\NSIETE\\zadanie3\\output\\position_index_pairs_max150_1miss.npy\"\n",
    "sequence_len = 150\n",
    "epoch = 50"
   ]
  },
  {
   "cell_type": "code",
   "execution_count": null,
   "metadata": {},
   "outputs": [],
   "source": [
    "essay_path = \"C:\\Users\\matul\\Desktop\\NSIETE\\zadanie3\\output\\essays_tensor_representation_max500_1miss.npy\"\n",
    "pos_path = \"C:\\Users\\matul\\Desktop\\NSIETE\\zadanie3\\output\\position_index_pairs_max500_1miss.npy\"\n",
    "sequence_len = 500\n",
    "epoch = 50"
   ]
  },
  {
   "cell_type": "code",
   "execution_count": null,
   "metadata": {},
   "outputs": [],
   "source": [
    "run_name = f\"lstm_M-{sequence_len}_mul\"\n",
    "\n",
    "model = RNN(\"lstm_M\", embedding_path, cfg.config_to_dict(cfg.config_NN))\n",
    "run = wanDB_run(run_name, model)\n",
    "run.load_datasets(essay_path, pos_path)"
   ]
  },
  {
   "cell_type": "code",
   "execution_count": null,
   "metadata": {},
   "outputs": [],
   "source": [
    "run.execute_training(epoch)\n",
    "run.stop_run()"
   ]
  }
 ],
 "metadata": {
  "kernelspec": {
   "display_name": "NN",
   "language": "python",
   "name": "python3"
  },
  "language_info": {
   "codemirror_mode": {
    "name": "ipython",
    "version": 3
   },
   "file_extension": ".py",
   "mimetype": "text/x-python",
   "name": "python",
   "nbconvert_exporter": "python",
   "pygments_lexer": "ipython3",
   "version": "3.12.2"
  }
 },
 "nbformat": 4,
 "nbformat_minor": 2
}
