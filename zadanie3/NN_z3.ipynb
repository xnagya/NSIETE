{
 "cells": [
  {
   "cell_type": "code",
   "execution_count": null,
   "metadata": {},
   "outputs": [],
   "source": [
    "import net_config as cfg\n",
    "from models import *\n",
    "from trainer import *\n",
    "from experiment import *"
   ]
  },
  {
   "cell_type": "markdown",
   "metadata": {},
   "source": [
    "# Experiments"
   ]
  },
  {
   "cell_type": "code",
   "execution_count": null,
   "metadata": {},
   "outputs": [],
   "source": [
    "embedding_path = \"embedding_matrix.npy\""
   ]
  },
  {
   "cell_type": "markdown",
   "metadata": {},
   "source": [
    "## Experiment 1 - different sequence lenghts"
   ]
  },
  {
   "cell_type": "code",
   "execution_count": null,
   "metadata": {},
   "outputs": [],
   "source": [
    "essay_path = r\"C:\\Users\\matul\\Desktop\\NSIETE\\zadanie3\\output\\essays_tensor_representation_max50_1miss.npy\"\n",
    "pos_path = r\"C:\\Users\\matul\\Desktop\\NSIETE\\zadanie3\\output\\position_index_pairs_max50_1miss.npy\"\n",
    "sequence_len = 50\n",
    "epoch = 50"
   ]
  },
  {
   "cell_type": "code",
   "execution_count": null,
   "metadata": {},
   "outputs": [],
   "source": [
    "essay_path = r\"C:\\Users\\matul\\Desktop\\NSIETE\\zadanie3\\output\\essays_tensor_representation_max150_1miss.npy\"\n",
    "pos_path = r\"C:\\Users\\matul\\Desktop\\NSIETE\\zadanie3\\output\\position_index_pairs_max150_1miss.npy\"\n",
    "sequence_len = 150\n",
    "epoch = 50"
   ]
  },
  {
   "cell_type": "code",
   "execution_count": null,
   "metadata": {},
   "outputs": [],
   "source": [
    "essay_path = r\"C:\\Users\\matul\\Desktop\\NSIETE\\zadanie3\\output\\essays_tensor_representation_max500_1miss.npy\"\n",
    "pos_path = r\"C:\\Users\\matul\\Desktop\\NSIETE\\zadanie3\\output\\position_index_pairs_max500_1miss.npy\"\n",
    "sequence_len = 500\n",
    "epoch = 50"
   ]
  },
  {
   "cell_type": "markdown",
   "metadata": {},
   "source": [
    "RNN"
   ]
  },
  {
   "cell_type": "code",
   "execution_count": null,
   "metadata": {},
   "outputs": [],
   "source": [
    "run_name = f\"RNN-{sequence_len}\"\n",
    "\n",
    "model = RNN(\"simple\", embedding_path, cfg.config_to_dict(cfg.config_NN))\n",
    "run = wanDB_run(run_name, run_name, model)\n",
    "run.load_datasets(essay_path, pos_path)"
   ]
  },
  {
   "cell_type": "code",
   "execution_count": null,
   "metadata": {},
   "outputs": [],
   "source": [
    "run.execute_training(epoch)\n",
    "run.stop_run()"
   ]
  },
  {
   "cell_type": "markdown",
   "metadata": {},
   "source": [
    "LSTM"
   ]
  },
  {
   "cell_type": "code",
   "execution_count": null,
   "metadata": {},
   "outputs": [],
   "source": [
    "run_name = f\"lstm-{sequence_len}\"\n",
    "\n",
    "model = RNN(\"lstm\", embedding_path, cfg.config_to_dict(cfg.config_NN))\n",
    "run = wanDB_run(run_name, run_name, model)\n",
    "run.load_datasets(essay_path, pos_path)"
   ]
  },
  {
   "cell_type": "code",
   "execution_count": null,
   "metadata": {},
   "outputs": [],
   "source": [
    "run.execute_training(epoch)\n",
    "run.stop_run()"
   ]
  },
  {
   "cell_type": "markdown",
   "metadata": {},
   "source": [
    "LSTM with Momentum Cell"
   ]
  },
  {
   "cell_type": "code",
   "execution_count": null,
   "metadata": {},
   "outputs": [],
   "source": [
    "run_name = f\"lstm_M-{sequence_len}\"\n",
    "\n",
    "model = RNN(\"lstm_M\", embedding_path, cfg.config_to_dict(cfg.config_NN))\n",
    "run = wanDB_run(run_name, run_name, model)\n",
    "run.load_datasets(essay_path, pos_path)"
   ]
  },
  {
   "cell_type": "code",
   "execution_count": null,
   "metadata": {},
   "outputs": [],
   "source": [
    "run.execute_training(epoch)\n",
    "run.stop_run()"
   ]
  },
  {
   "cell_type": "markdown",
   "metadata": {},
   "source": [
    "LSTM with ADAM Cell"
   ]
  },
  {
   "cell_type": "code",
   "execution_count": null,
   "metadata": {},
   "outputs": [],
   "source": [
    "run_name = f\"lstm_A-{sequence_len}\"\n",
    "\n",
    "model = RNN(\"lstm_A\", embedding_path, cfg.config_to_dict(cfg.config_NN))\n",
    "run = wanDB_run(run_name, run_name, model)\n",
    "run.load_datasets(essay_path, pos_path)"
   ]
  },
  {
   "cell_type": "code",
   "execution_count": null,
   "metadata": {},
   "outputs": [],
   "source": [
    "run.execute_training(epoch)\n",
    "run.stop_run()"
   ]
  },
  {
   "cell_type": "markdown",
   "metadata": {},
   "source": [
    "## Experiment 2 - BIdirectional RNNs"
   ]
  },
  {
   "cell_type": "code",
   "execution_count": null,
   "metadata": {},
   "outputs": [],
   "source": [
    "essay_path = \"C:\\Users\\matul\\Desktop\\NSIETE\\zadanie3\\output\\essays_tensor_representation_max150_1miss.npy\"\n",
    "pos_path = \"C:\\Users\\matul\\Desktop\\NSIETE\\zadanie3\\output\\position_index_pairs_max150_1miss.npy\"\n",
    "#sequence_len = 150\n",
    "epoch = 50\n",
    "\n",
    "cfg.config_NN.bidirectional = True"
   ]
  },
  {
   "cell_type": "markdown",
   "metadata": {},
   "source": [
    "RNN - Bidirectional"
   ]
  },
  {
   "cell_type": "code",
   "execution_count": null,
   "metadata": {},
   "outputs": [],
   "source": [
    "run_name = f\"RNN-BI\"\n",
    "\n",
    "model = RNN(\"simple\", embedding_path, cfg.config_to_dict(cfg.config_NN))\n",
    "run = wanDB_run(run_name, run_name, model)\n",
    "run.load_datasets(essay_path, pos_path)"
   ]
  },
  {
   "cell_type": "code",
   "execution_count": null,
   "metadata": {},
   "outputs": [],
   "source": [
    "run.execute_training(epoch)\n",
    "run.stop_run()"
   ]
  },
  {
   "cell_type": "markdown",
   "metadata": {},
   "source": [
    "LSTM - Bidirectional"
   ]
  },
  {
   "cell_type": "code",
   "execution_count": null,
   "metadata": {},
   "outputs": [],
   "source": [
    "run_name = f\"lstm-BI\"\n",
    "\n",
    "model = RNN(\"lstm\", embedding_path, cfg.config_to_dict(cfg.config_NN))\n",
    "run = wanDB_run(run_name, run_name, model)\n",
    "run.load_datasets(essay_path, pos_path)"
   ]
  },
  {
   "cell_type": "code",
   "execution_count": null,
   "metadata": {},
   "outputs": [],
   "source": [
    "run.execute_training(epoch)\n",
    "run.stop_run()"
   ]
  },
  {
   "cell_type": "markdown",
   "metadata": {},
   "source": [
    "LSTM with Momentum Cell - Bidirectional"
   ]
  },
  {
   "cell_type": "code",
   "execution_count": null,
   "metadata": {},
   "outputs": [],
   "source": [
    "run_name = f\"lstm_M-BI\"\n",
    "\n",
    "model = RNN(\"lstm_M\", embedding_path, cfg.config_to_dict(cfg.config_NN))\n",
    "run = wanDB_run(run_name, run_name, model)\n",
    "run.load_datasets(essay_path, pos_path)"
   ]
  },
  {
   "cell_type": "code",
   "execution_count": null,
   "metadata": {},
   "outputs": [],
   "source": [
    "run.execute_training(epoch)\n",
    "run.stop_run()"
   ]
  },
  {
   "cell_type": "markdown",
   "metadata": {},
   "source": [
    "LSTM with ADAM Cell - Bidirectional"
   ]
  },
  {
   "cell_type": "code",
   "execution_count": null,
   "metadata": {},
   "outputs": [],
   "source": [
    "run_name = f\"lstm_A-BI\"\n",
    "\n",
    "model = RNN(\"lstm_A\", embedding_path, cfg.config_to_dict(cfg.config_NN))\n",
    "run = wanDB_run(run_name, run_name, model)\n",
    "run.load_datasets(essay_path, pos_path)"
   ]
  },
  {
   "cell_type": "code",
   "execution_count": null,
   "metadata": {},
   "outputs": [],
   "source": [
    "run.execute_training(epoch)\n",
    "run.stop_run()"
   ]
  },
  {
   "cell_type": "markdown",
   "metadata": {},
   "source": [
    "## Experiment 3 - multiple missing words"
   ]
  },
  {
   "cell_type": "code",
   "execution_count": null,
   "metadata": {},
   "outputs": [],
   "source": [
    "cfg.config_NN.bidirectional = True"
   ]
  },
  {
   "cell_type": "code",
   "execution_count": null,
   "metadata": {},
   "outputs": [],
   "source": [
    "essay_path = \"C:\\Users\\matul\\Desktop\\NSIETE\\zadanie3\\output\\essays_tensor_representation_max50_1miss.npy\"\n",
    "pos_path = \"C:\\Users\\matul\\Desktop\\NSIETE\\zadanie3\\output\\position_index_pairs_max50_1miss.npy\"\n",
    "sequence_len = 50\n",
    "epoch = 50"
   ]
  },
  {
   "cell_type": "code",
   "execution_count": null,
   "metadata": {},
   "outputs": [],
   "source": [
    "essay_path = \"C:\\Users\\matul\\Desktop\\NSIETE\\zadanie3\\output\\essays_tensor_representation_max150_1miss.npy\"\n",
    "pos_path = \"C:\\Users\\matul\\Desktop\\NSIETE\\zadanie3\\output\\position_index_pairs_max150_1miss.npy\"\n",
    "sequence_len = 150\n",
    "epoch = 50"
   ]
  },
  {
   "cell_type": "code",
   "execution_count": null,
   "metadata": {},
   "outputs": [],
   "source": [
    "essay_path = \"C:\\Users\\matul\\Desktop\\NSIETE\\zadanie3\\output\\essays_tensor_representation_max500_1miss.npy\"\n",
    "pos_path = \"C:\\Users\\matul\\Desktop\\NSIETE\\zadanie3\\output\\position_index_pairs_max500_1miss.npy\"\n",
    "sequence_len = 500\n",
    "epoch = 50"
   ]
  },
  {
   "cell_type": "code",
   "execution_count": null,
   "metadata": {},
   "outputs": [],
   "source": [
    "run_name = f\"lstm_M-{sequence_len}_mul\"\n",
    "\n",
    "model = RNN(\"lstm_M\", embedding_path, cfg.config_to_dict(cfg.config_NN))\n",
    "run = wanDB_run(run_name, run_name, model)\n",
    "run.load_datasets(essay_path, pos_path)"
   ]
  },
  {
   "cell_type": "code",
   "execution_count": null,
   "metadata": {},
   "outputs": [],
   "source": [
    "run.execute_training(epoch)\n",
    "run.stop_run()"
   ]
  }
 ],
 "metadata": {
  "language_info": {
   "name": "python"
  }
 },
 "nbformat": 4,
 "nbformat_minor": 2
}
