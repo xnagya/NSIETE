{
 "cells": [
  {
   "cell_type": "code",
   "execution_count": 3,
   "metadata": {},
   "outputs": [],
   "source": [
    "from argparse import Namespace\n",
    "\n",
    "def config_to_dict(ns: Namespace):\n",
    "    return vars(ns)\n",
    "\n",
    "def dict_to_config(d: dict):\n",
    "    return Namespace(**d)"
   ]
  },
  {
   "cell_type": "code",
   "execution_count": 4,
   "metadata": {},
   "outputs": [],
   "source": [
    "config_unet = Namespace (\n",
    "    # Dataset parameters\n",
    "    batch_size = 128,\n",
    "\n",
    "    # Trainer params\n",
    "    learning_rate = 0.001,\n",
    "    betas = (0.9, 0.999), \n",
    "    weight_decay = 0, \n",
    "    initial_bias = 0,\n",
    "\n",
    "    # U-Net params\n",
    "    channels_out_init = 32,     # initial channel width (num of channels on 1-st layer)\n",
    "    channel_mul = float(2),     # multiplication of image channels per layer\n",
    "    network_depth = 3,          # number of network layers (without bridge)\n",
    "\n",
    "    # ENC, DEC params\n",
    "    # h,w should be consistent per layer (otherwise output has different h,w then input)\n",
    "    block_width = 2,            \n",
    "    kernel_size = 5,                # affects h,w \n",
    "    padding = 2,                    # affects h,w \n",
    "    stride = 1,                     # affects h,w \n",
    "    dilation = 1,                   # affects h,w \n",
    "    pool_type = \"max\",              # max | avg \n",
    "    pool_kernel_size = 2,           # affects h,w (pooling and transposed convolution)\n",
    "    padding_convT = [1, 0, 0, 0]    # needed if h,w is not divisible by at i-layer (1 = not divisible)\n",
    ")"
   ]
  }
 ],
 "metadata": {
  "kernelspec": {
   "display_name": "NN",
   "language": "python",
   "name": "python3"
  },
  "language_info": {
   "codemirror_mode": {
    "name": "ipython",
    "version": 3
   },
   "file_extension": ".py",
   "mimetype": "text/x-python",
   "name": "python",
   "nbconvert_exporter": "python",
   "pygments_lexer": "ipython3",
   "version": "3.12.2"
  }
 },
 "nbformat": 4,
 "nbformat_minor": 2
}
